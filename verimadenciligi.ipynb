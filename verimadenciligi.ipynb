{
 "cells": [
  {
   "cell_type": "markdown",
   "id": "4a90bd23",
   "metadata": {
    "papermill": {
     "duration": 0.022102,
     "end_time": "2023-01-12T18:50:39.911178",
     "exception": false,
     "start_time": "2023-01-12T18:50:39.889076",
     "status": "completed"
    },
    "tags": []
   },
   "source": [
    "\n",
    "Hava Kirliliği nedir ? Hava kirliliği; havada katı, sıvı ve gaz şeklindeki yabancı maddelerin insan sağlığına, canlı hayatına ve ekolojik dengeye zarar verecek miktar, yoğunluk ve uzun sürede atmosferde bulunmasıdır. \n",
    "İnsanların çeşitli faaliyetleri sonucu meydana gelen üretim ve tüketim aktiviteleri sırasında ortaya çıkan atıklarla hava tabakası kirlenerek, yeryüzündeki canlı hayatını olumsuz yönde etkilemektedir.\n",
    "Hava kirliliği yüzünden her sene 7 milyon kişi ölmektedir.\n",
    "\n"
   ]
  },
  {
   "cell_type": "markdown",
   "id": "ca6a4928",
   "metadata": {
    "papermill": {
     "duration": 0.01718,
     "end_time": "2023-01-12T18:50:39.946236",
     "exception": false,
     "start_time": "2023-01-12T18:50:39.929056",
     "status": "completed"
    },
    "tags": []
   },
   "source": [
    "Verimizde Bulunun Değerler\n",
    "AQI Değeri : Hava Kitle İndeksi (AQI) Bir bölgenin havasının kalitesini ifade etmek için kullanılan ölçü birimidir. AQI ölçü birimi endeks değerlerine göre risk gruplarına ve renklere bölünmüştür\n",
    "AQI Kategorisi : Şehrin genel AQI kategorisi\n",
    "CO AQI Değeri : Şehrin Karbon Monoksitinin AQI değeri\n",
    "CO AQI Kategorisi : Şehrin Karbon Monoksit AQI kategorisi\n",
    "Ozon AQI Değeri : Şehrin Ozonunun AQI değeri\n",
    "Ozon AQI Kategorisi : Şehrin Ozonunun AQI kategorisi\n",
    "NO2 AQI Değeri : Şehrin Azot Dioksitinin AQI değeri\n",
    "NO2 AQI Kategorisi : Şehrin Azot Dioksit AQI kategorisi\n",
    "PM2.5 AQI Değeri : Çapı 2,5 mikrometre veya daha küçük olan Partikül Maddenin AQI değeri\n",
    "PM2.5 AQI Kategorisi : Çapı 2,5 mikrometre veya daha az olan Partikül Maddenin AQI kategorisi"
   ]
  },
  {
   "cell_type": "markdown",
   "id": "6febd88f",
   "metadata": {
    "papermill": {
     "duration": 0.017508,
     "end_time": "2023-01-12T18:50:39.981690",
     "exception": false,
     "start_time": "2023-01-12T18:50:39.964182",
     "status": "completed"
    },
    "tags": []
   },
   "source": [
    "![](https://oizom.com/wp-content/uploads/2019/08/2-1.png)"
   ]
  },
  {
   "cell_type": "code",
   "execution_count": 1,
   "id": "d5f455e8",
   "metadata": {
    "_cell_guid": "b1076dfc-b9ad-4769-8c92-a6c4dae69d19",
    "_uuid": "8f2839f25d086af736a60e9eeb907d3b93b6e0e5",
    "execution": {
     "iopub.execute_input": "2023-01-12T18:50:40.019669Z",
     "iopub.status.busy": "2023-01-12T18:50:40.018745Z",
     "iopub.status.idle": "2023-01-12T18:50:42.853765Z",
     "shell.execute_reply": "2023-01-12T18:50:42.852609Z"
    },
    "papermill": {
     "duration": 2.857557,
     "end_time": "2023-01-12T18:50:42.856716",
     "exception": false,
     "start_time": "2023-01-12T18:50:39.999159",
     "status": "completed"
    },
    "tags": []
   },
   "outputs": [],
   "source": [
    "import pandas as pd\n",
    "import numpy as np\n",
    "import warnings\n",
    "import matplotlib.pyplot as plt\n",
    "import seaborn as sns\n",
    "import plotly_express as px \n",
    "from sklearn.preprocessing import StandardScaler\n",
    "from statistics import mean, median, mode, stdev\n",
    "from sklearn.linear_model import LinearRegression\n",
    "from sklearn.metrics import mean_squared_error, mean_absolute_error, r2_score\n",
    "from sklearn.model_selection import train_test_split\n",
    "from sklearn.preprocessing import OneHotEncoder\n",
    "import statsmodels.api as sm\n",
    "from sklearn.tree import DecisionTreeRegressor\n"
   ]
  },
  {
   "cell_type": "code",
   "execution_count": 2,
   "id": "aff47ade",
   "metadata": {
    "execution": {
     "iopub.execute_input": "2023-01-12T18:50:42.895150Z",
     "iopub.status.busy": "2023-01-12T18:50:42.894404Z",
     "iopub.status.idle": "2023-01-12T18:50:42.900245Z",
     "shell.execute_reply": "2023-01-12T18:50:42.899513Z"
    },
    "papermill": {
     "duration": 0.027937,
     "end_time": "2023-01-12T18:50:42.902850",
     "exception": false,
     "start_time": "2023-01-12T18:50:42.874913",
     "status": "completed"
    },
    "tags": []
   },
   "outputs": [],
   "source": [
    "warnings.simplefilter(action='ignore', category=Warning)\n",
    "pd.set_option('display.max_columns', 20)\n",
    "pd.set_option('display.max_rows', None)\n",
    "pd.set_option('display.width', 300)\n",
    "pd.set_option('display.float_format', lambda x: '%.5f' % x)"
   ]
  },
  {
   "cell_type": "code",
   "execution_count": 3,
   "id": "49c20077",
   "metadata": {
    "execution": {
     "iopub.execute_input": "2023-01-12T18:50:42.940361Z",
     "iopub.status.busy": "2023-01-12T18:50:42.940003Z",
     "iopub.status.idle": "2023-01-12T18:50:43.031062Z",
     "shell.execute_reply": "2023-01-12T18:50:43.030143Z"
    },
    "papermill": {
     "duration": 0.113038,
     "end_time": "2023-01-12T18:50:43.033730",
     "exception": false,
     "start_time": "2023-01-12T18:50:42.920692",
     "status": "completed"
    },
    "tags": []
   },
   "outputs": [],
   "source": [
    "#veriyi okuma\n",
    "df = pd.read_csv(\"/kaggle/input/global-air-pollution-dataset/global air pollution dataset.csv\")"
   ]
  },
  {
   "cell_type": "code",
   "execution_count": 4,
   "id": "7ee5b2c6",
   "metadata": {
    "execution": {
     "iopub.execute_input": "2023-01-12T18:50:43.082919Z",
     "iopub.status.busy": "2023-01-12T18:50:43.082525Z",
     "iopub.status.idle": "2023-01-12T18:50:43.107893Z",
     "shell.execute_reply": "2023-01-12T18:50:43.106656Z"
    },
    "papermill": {
     "duration": 0.054746,
     "end_time": "2023-01-12T18:50:43.111440",
     "exception": false,
     "start_time": "2023-01-12T18:50:43.056694",
     "status": "completed"
    },
    "tags": []
   },
   "outputs": [
    {
     "data": {
      "text/html": [
       "<div>\n",
       "<style scoped>\n",
       "    .dataframe tbody tr th:only-of-type {\n",
       "        vertical-align: middle;\n",
       "    }\n",
       "\n",
       "    .dataframe tbody tr th {\n",
       "        vertical-align: top;\n",
       "    }\n",
       "\n",
       "    .dataframe thead th {\n",
       "        text-align: right;\n",
       "    }\n",
       "</style>\n",
       "<table border=\"1\" class=\"dataframe\">\n",
       "  <thead>\n",
       "    <tr style=\"text-align: right;\">\n",
       "      <th></th>\n",
       "      <th>Country</th>\n",
       "      <th>City</th>\n",
       "      <th>AQI Value</th>\n",
       "      <th>AQI Category</th>\n",
       "      <th>CO AQI Value</th>\n",
       "      <th>CO AQI Category</th>\n",
       "      <th>Ozone AQI Value</th>\n",
       "      <th>Ozone AQI Category</th>\n",
       "      <th>NO2 AQI Value</th>\n",
       "      <th>NO2 AQI Category</th>\n",
       "      <th>PM2.5 AQI Value</th>\n",
       "      <th>PM2.5 AQI Category</th>\n",
       "    </tr>\n",
       "  </thead>\n",
       "  <tbody>\n",
       "    <tr>\n",
       "      <th>0</th>\n",
       "      <td>Russian Federation</td>\n",
       "      <td>Praskoveya</td>\n",
       "      <td>51</td>\n",
       "      <td>Moderate</td>\n",
       "      <td>1</td>\n",
       "      <td>Good</td>\n",
       "      <td>36</td>\n",
       "      <td>Good</td>\n",
       "      <td>0</td>\n",
       "      <td>Good</td>\n",
       "      <td>51</td>\n",
       "      <td>Moderate</td>\n",
       "    </tr>\n",
       "    <tr>\n",
       "      <th>1</th>\n",
       "      <td>Brazil</td>\n",
       "      <td>Presidente Dutra</td>\n",
       "      <td>41</td>\n",
       "      <td>Good</td>\n",
       "      <td>1</td>\n",
       "      <td>Good</td>\n",
       "      <td>5</td>\n",
       "      <td>Good</td>\n",
       "      <td>1</td>\n",
       "      <td>Good</td>\n",
       "      <td>41</td>\n",
       "      <td>Good</td>\n",
       "    </tr>\n",
       "    <tr>\n",
       "      <th>2</th>\n",
       "      <td>Italy</td>\n",
       "      <td>Priolo Gargallo</td>\n",
       "      <td>66</td>\n",
       "      <td>Moderate</td>\n",
       "      <td>1</td>\n",
       "      <td>Good</td>\n",
       "      <td>39</td>\n",
       "      <td>Good</td>\n",
       "      <td>2</td>\n",
       "      <td>Good</td>\n",
       "      <td>66</td>\n",
       "      <td>Moderate</td>\n",
       "    </tr>\n",
       "    <tr>\n",
       "      <th>3</th>\n",
       "      <td>Poland</td>\n",
       "      <td>Przasnysz</td>\n",
       "      <td>34</td>\n",
       "      <td>Good</td>\n",
       "      <td>1</td>\n",
       "      <td>Good</td>\n",
       "      <td>34</td>\n",
       "      <td>Good</td>\n",
       "      <td>0</td>\n",
       "      <td>Good</td>\n",
       "      <td>20</td>\n",
       "      <td>Good</td>\n",
       "    </tr>\n",
       "    <tr>\n",
       "      <th>4</th>\n",
       "      <td>France</td>\n",
       "      <td>Punaauia</td>\n",
       "      <td>22</td>\n",
       "      <td>Good</td>\n",
       "      <td>0</td>\n",
       "      <td>Good</td>\n",
       "      <td>22</td>\n",
       "      <td>Good</td>\n",
       "      <td>0</td>\n",
       "      <td>Good</td>\n",
       "      <td>6</td>\n",
       "      <td>Good</td>\n",
       "    </tr>\n",
       "  </tbody>\n",
       "</table>\n",
       "</div>"
      ],
      "text/plain": [
       "              Country              City  AQI Value AQI Category  CO AQI Value CO AQI Category  Ozone AQI Value Ozone AQI Category  NO2 AQI Value NO2 AQI Category  PM2.5 AQI Value PM2.5 AQI Category\n",
       "0  Russian Federation        Praskoveya         51     Moderate             1            Good               36               Good              0             Good               51           Moderate\n",
       "1              Brazil  Presidente Dutra         41         Good             1            Good                5               Good              1             Good               41               Good\n",
       "2               Italy   Priolo Gargallo         66     Moderate             1            Good               39               Good              2             Good               66           Moderate\n",
       "3              Poland         Przasnysz         34         Good             1            Good               34               Good              0             Good               20               Good\n",
       "4              France          Punaauia         22         Good             0            Good               22               Good              0             Good                6               Good"
      ]
     },
     "execution_count": 4,
     "metadata": {},
     "output_type": "execute_result"
    }
   ],
   "source": [
    "df.head()"
   ]
  },
  {
   "cell_type": "code",
   "execution_count": 5,
   "id": "d2e24c54",
   "metadata": {
    "execution": {
     "iopub.execute_input": "2023-01-12T18:50:43.154053Z",
     "iopub.status.busy": "2023-01-12T18:50:43.153673Z",
     "iopub.status.idle": "2023-01-12T18:50:43.161895Z",
     "shell.execute_reply": "2023-01-12T18:50:43.161142Z"
    },
    "papermill": {
     "duration": 0.030575,
     "end_time": "2023-01-12T18:50:43.164009",
     "exception": false,
     "start_time": "2023-01-12T18:50:43.133434",
     "status": "completed"
    },
    "tags": []
   },
   "outputs": [],
   "source": [
    "#öncelikle veriyi tanımak için bir fonksiyon yazalım\n",
    "\n",
    "def check_data(df,n=5):\n",
    "    #sayısal değişkenlere genel bakış\n",
    "    print(\"sayısal değişkenlere genel bakış\")\n",
    "    print(\"*-*-*-*-*-*-*-*-*-*-*-*-*-*-*-*-*-*-*\\n\")\n",
    "    print(df.describe().T)\n",
    "    print(\"\\n\\n\")\n",
    "    \n",
    "    # boyut bilgisi\n",
    "    print(\"boyut bilgisi\")\n",
    "    print(\"*-*-*-*-*-*-*-*-*-*-*-*-*-*-*-*-*-*-*\\n\")\n",
    "    print(df.shape)\n",
    "    print(\"\\n\\n\")\n",
    "    \n",
    "    # Verinin ilk beş satırını görüntüle\n",
    "    print(\"ilk\",n,\"satır\")\n",
    "    print(\"*-*-*-*-*-*-*-*-*-*-*-*-*-*-*-*-*-*-*\\n\")\n",
    "    print(df.head(n))\n",
    "    print(\"\\n\\n\")\n",
    "    \n",
    "    #Verinin son beş satırını görüntüle\n",
    "    print(\"son\",n,\"satır\")\n",
    "    print(\"*-*-*-*-*-*-*-*-*-*-*-*-*-*-*-*-*-*-*\\n\")\n",
    "    print(df.tail(n))\n",
    "    print(\"\\n\\n\")\n",
    "    \n",
    "    # Veri hakkında bilgi görüntüle\n",
    "    print(\"veriye genel bakış\")\n",
    "    print(\"*-*-*-*-*-*-*-*-*-*-*-*-*-*-*-*-*-*-*\\n\")\n",
    "    print(df.info())\n",
    "    print(\"\\n\\n\")\n",
    "    \n",
    "    # Sütun tiplerini görüntüle\n",
    "    print(\"sütun tipleri neler\")\n",
    "    print(\"*-*-*-*-*-*-*-*-*-*-*-*-*-*-*-*-*-*-*\\n\")\n",
    "    print(df.dtypes)\n",
    "    print(\"\\n\\n\")\n",
    "    \n",
    "    # Eksik verileri say\n",
    "    print(\"eksik verilere genel bakış\")\n",
    "    print(\"*-*-*-*-*-*-*-*-*-*-*-*-*-*-*-*-*-*-*\\n\")\n",
    "    print(df.isnull().sum())"
   ]
  },
  {
   "cell_type": "code",
   "execution_count": 6,
   "id": "fe2a3d99",
   "metadata": {
    "execution": {
     "iopub.execute_input": "2023-01-12T18:50:43.202264Z",
     "iopub.status.busy": "2023-01-12T18:50:43.201608Z",
     "iopub.status.idle": "2023-01-12T18:50:43.266638Z",
     "shell.execute_reply": "2023-01-12T18:50:43.265462Z"
    },
    "papermill": {
     "duration": 0.087659,
     "end_time": "2023-01-12T18:50:43.269751",
     "exception": false,
     "start_time": "2023-01-12T18:50:43.182092",
     "status": "completed"
    },
    "tags": []
   },
   "outputs": [
    {
     "name": "stdout",
     "output_type": "stream",
     "text": [
      "sayısal değişkenlere genel bakış\n",
      "*-*-*-*-*-*-*-*-*-*-*-*-*-*-*-*-*-*-*\n",
      "\n",
      "                      count     mean      std     min      25%      50%      75%       max\n",
      "AQI Value       23463.00000 72.01087 56.05522 6.00000 39.00000 55.00000 79.00000 500.00000\n",
      "CO AQI Value    23463.00000  1.36837  1.83206 0.00000  1.00000  1.00000  1.00000 133.00000\n",
      "Ozone AQI Value 23463.00000 35.19371 28.09872 0.00000 21.00000 31.00000 40.00000 235.00000\n",
      "NO2 AQI Value   23463.00000  3.06333  5.25411 0.00000  0.00000  1.00000  4.00000  91.00000\n",
      "PM2.5 AQI Value 23463.00000 68.51975 54.79644 0.00000 35.00000 54.00000 79.00000 500.00000\n",
      "\n",
      "\n",
      "\n",
      "boyut bilgisi\n",
      "*-*-*-*-*-*-*-*-*-*-*-*-*-*-*-*-*-*-*\n",
      "\n",
      "(23463, 12)\n",
      "\n",
      "\n",
      "\n",
      "ilk 5 satır\n",
      "*-*-*-*-*-*-*-*-*-*-*-*-*-*-*-*-*-*-*\n",
      "\n",
      "              Country              City  AQI Value AQI Category  CO AQI Value CO AQI Category  Ozone AQI Value Ozone AQI Category  NO2 AQI Value NO2 AQI Category  PM2.5 AQI Value PM2.5 AQI Category\n",
      "0  Russian Federation        Praskoveya         51     Moderate             1            Good               36               Good              0             Good               51           Moderate\n",
      "1              Brazil  Presidente Dutra         41         Good             1            Good                5               Good              1             Good               41               Good\n",
      "2               Italy   Priolo Gargallo         66     Moderate             1            Good               39               Good              2             Good               66           Moderate\n",
      "3              Poland         Przasnysz         34         Good             1            Good               34               Good              0             Good               20               Good\n",
      "4              France          Punaauia         22         Good             0            Good               22               Good              0             Good                6               Good\n",
      "\n",
      "\n",
      "\n",
      "son 5 satır\n",
      "*-*-*-*-*-*-*-*-*-*-*-*-*-*-*-*-*-*-*\n",
      "\n",
      "                        Country          City  AQI Value AQI Category  CO AQI Value CO AQI Category  Ozone AQI Value Ozone AQI Category  NO2 AQI Value NO2 AQI Category  PM2.5 AQI Value PM2.5 AQI Category\n",
      "23458                     India  Gursahaiganj        184    Unhealthy             3            Good              154          Unhealthy              2             Good              184          Unhealthy\n",
      "23459                    France        Sceaux         50         Good             1            Good               20               Good              5             Good               50               Good\n",
      "23460                     India      Mormugao         50         Good             1            Good               22               Good              1             Good               50               Good\n",
      "23461  United States of America   Westerville         71     Moderate             1            Good               44               Good              2             Good               71           Moderate\n",
      "23462                  Malaysia        Marang         70     Moderate             1            Good               38               Good              0             Good               70           Moderate\n",
      "\n",
      "\n",
      "\n",
      "veriye genel bakış\n",
      "*-*-*-*-*-*-*-*-*-*-*-*-*-*-*-*-*-*-*\n",
      "\n",
      "<class 'pandas.core.frame.DataFrame'>\n",
      "RangeIndex: 23463 entries, 0 to 23462\n",
      "Data columns (total 12 columns):\n",
      " #   Column              Non-Null Count  Dtype \n",
      "---  ------              --------------  ----- \n",
      " 0   Country             23036 non-null  object\n",
      " 1   City                23462 non-null  object\n",
      " 2   AQI Value           23463 non-null  int64 \n",
      " 3   AQI Category        23463 non-null  object\n",
      " 4   CO AQI Value        23463 non-null  int64 \n",
      " 5   CO AQI Category     23463 non-null  object\n",
      " 6   Ozone AQI Value     23463 non-null  int64 \n",
      " 7   Ozone AQI Category  23463 non-null  object\n",
      " 8   NO2 AQI Value       23463 non-null  int64 \n",
      " 9   NO2 AQI Category    23463 non-null  object\n",
      " 10  PM2.5 AQI Value     23463 non-null  int64 \n",
      " 11  PM2.5 AQI Category  23463 non-null  object\n",
      "dtypes: int64(5), object(7)\n",
      "memory usage: 2.1+ MB\n",
      "None\n",
      "\n",
      "\n",
      "\n",
      "sütun tipleri neler\n",
      "*-*-*-*-*-*-*-*-*-*-*-*-*-*-*-*-*-*-*\n",
      "\n",
      "Country               object\n",
      "City                  object\n",
      "AQI Value              int64\n",
      "AQI Category          object\n",
      "CO AQI Value           int64\n",
      "CO AQI Category       object\n",
      "Ozone AQI Value        int64\n",
      "Ozone AQI Category    object\n",
      "NO2 AQI Value          int64\n",
      "NO2 AQI Category      object\n",
      "PM2.5 AQI Value        int64\n",
      "PM2.5 AQI Category    object\n",
      "dtype: object\n",
      "\n",
      "\n",
      "\n",
      "eksik verilere genel bakış\n",
      "*-*-*-*-*-*-*-*-*-*-*-*-*-*-*-*-*-*-*\n",
      "\n",
      "Country               427\n",
      "City                    1\n",
      "AQI Value               0\n",
      "AQI Category            0\n",
      "CO AQI Value            0\n",
      "CO AQI Category         0\n",
      "Ozone AQI Value         0\n",
      "Ozone AQI Category      0\n",
      "NO2 AQI Value           0\n",
      "NO2 AQI Category        0\n",
      "PM2.5 AQI Value         0\n",
      "PM2.5 AQI Category      0\n",
      "dtype: int64\n"
     ]
    }
   ],
   "source": [
    "check_data(df)"
   ]
  },
  {
   "cell_type": "markdown",
   "id": "56f68a8a",
   "metadata": {
    "papermill": {
     "duration": 0.018169,
     "end_time": "2023-01-12T18:50:43.306817",
     "exception": false,
     "start_time": "2023-01-12T18:50:43.288648",
     "status": "completed"
    },
    "tags": []
   },
   "source": [
    "**VERİ ÖN İŞLEME**"
   ]
  },
  {
   "cell_type": "code",
   "execution_count": 7,
   "id": "eb0f4b45",
   "metadata": {
    "execution": {
     "iopub.execute_input": "2023-01-12T18:50:43.346719Z",
     "iopub.status.busy": "2023-01-12T18:50:43.345976Z",
     "iopub.status.idle": "2023-01-12T18:50:43.353205Z",
     "shell.execute_reply": "2023-01-12T18:50:43.352163Z"
    },
    "papermill": {
     "duration": 0.030196,
     "end_time": "2023-01-12T18:50:43.355289",
     "exception": false,
     "start_time": "2023-01-12T18:50:43.325093",
     "status": "completed"
    },
    "tags": []
   },
   "outputs": [],
   "source": [
    "#verimizdeki eksik değerlerin oranına bakalım\n",
    "\n",
    "def missing_values_percentage(df):\n",
    "    #eksik değer barındıran sütunları listeye ekleyelim\n",
    "    mis_val_col = []\n",
    "    for column in df.columns:\n",
    "      if df[column].isnull().any():\n",
    "        mis_val_col.append(column)\n",
    "    \n",
    "    #eğer boş küme dönerse eksik veri olmadığını ekrana bastıralım\n",
    "    if len(mis_val_col) == 0:\n",
    "        print(\"verinizde eksik değer bulunmuyor\")\n",
    "\n",
    "    #eksik verilerin sütundaki toplam veri sayısına oranını ekrana bastıralım \n",
    "    for col in mis_val_col:\n",
    "        total_values = df[col].count()\n",
    "        missing_values = df[col].isnull().sum()\n",
    "        percentage = (missing_values/total_values) * 100\n",
    "        print(f\"{col} sütununda {percentage:.3f}% eksik değer var \\n\")"
   ]
  },
  {
   "cell_type": "code",
   "execution_count": 8,
   "id": "9d209974",
   "metadata": {
    "execution": {
     "iopub.execute_input": "2023-01-12T18:50:43.394559Z",
     "iopub.status.busy": "2023-01-12T18:50:43.394128Z",
     "iopub.status.idle": "2023-01-12T18:50:43.415209Z",
     "shell.execute_reply": "2023-01-12T18:50:43.413615Z"
    },
    "papermill": {
     "duration": 0.043537,
     "end_time": "2023-01-12T18:50:43.417776",
     "exception": false,
     "start_time": "2023-01-12T18:50:43.374239",
     "status": "completed"
    },
    "tags": []
   },
   "outputs": [
    {
     "name": "stdout",
     "output_type": "stream",
     "text": [
      "Country sütununda 1.854% eksik değer var \n",
      "\n",
      "City sütununda 0.004% eksik değer var \n",
      "\n"
     ]
    }
   ],
   "source": [
    "missing_values_percentage(df)"
   ]
  },
  {
   "cell_type": "markdown",
   "id": "1732096c",
   "metadata": {
    "papermill": {
     "duration": 0.018649,
     "end_time": "2023-01-12T18:50:43.455909",
     "exception": false,
     "start_time": "2023-01-12T18:50:43.437260",
     "status": "completed"
    },
    "tags": []
   },
   "source": [
    "buna göre eksik değerlerin oranı çok ciddiye alınabilir değil. bu yüzden silme yöntemiyle veriyi eksik değerlerden kurtaralım"
   ]
  },
  {
   "cell_type": "code",
   "execution_count": 9,
   "id": "c9e5cd16",
   "metadata": {
    "execution": {
     "iopub.execute_input": "2023-01-12T18:50:43.495083Z",
     "iopub.status.busy": "2023-01-12T18:50:43.493968Z",
     "iopub.status.idle": "2023-01-12T18:50:43.511334Z",
     "shell.execute_reply": "2023-01-12T18:50:43.510511Z"
    },
    "papermill": {
     "duration": 0.039287,
     "end_time": "2023-01-12T18:50:43.513712",
     "exception": false,
     "start_time": "2023-01-12T18:50:43.474425",
     "status": "completed"
    },
    "tags": []
   },
   "outputs": [],
   "source": [
    "df = df.dropna()"
   ]
  },
  {
   "cell_type": "code",
   "execution_count": 10,
   "id": "07661128",
   "metadata": {
    "execution": {
     "iopub.execute_input": "2023-01-12T18:50:43.554338Z",
     "iopub.status.busy": "2023-01-12T18:50:43.553309Z",
     "iopub.status.idle": "2023-01-12T18:50:43.569344Z",
     "shell.execute_reply": "2023-01-12T18:50:43.567644Z"
    },
    "papermill": {
     "duration": 0.039221,
     "end_time": "2023-01-12T18:50:43.572006",
     "exception": false,
     "start_time": "2023-01-12T18:50:43.532785",
     "status": "completed"
    },
    "tags": []
   },
   "outputs": [
    {
     "name": "stdout",
     "output_type": "stream",
     "text": [
      "verinizde eksik değer bulunmuyor\n"
     ]
    }
   ],
   "source": [
    "missing_values_percentage(df)"
   ]
  },
  {
   "cell_type": "markdown",
   "id": "09784b2c",
   "metadata": {
    "papermill": {
     "duration": 0.018632,
     "end_time": "2023-01-12T18:50:43.609410",
     "exception": false,
     "start_time": "2023-01-12T18:50:43.590778",
     "status": "completed"
    },
    "tags": []
   },
   "source": [
    "şimdi gözle aykırı değerlere bakmak için kutu grafikleri oluşturalım \n",
    "bunun için önceklikle değişkenlerimizi numerik kategorik olarak ayıralım. \n",
    "daha fonksiyonel olması için numerik gibi görünen kategorik değişkenler olma ihtimalini de gözetelim. "
   ]
  },
  {
   "cell_type": "code",
   "execution_count": 11,
   "id": "6f0621a9",
   "metadata": {
    "execution": {
     "iopub.execute_input": "2023-01-12T18:50:43.649606Z",
     "iopub.status.busy": "2023-01-12T18:50:43.648957Z",
     "iopub.status.idle": "2023-01-12T18:50:43.656471Z",
     "shell.execute_reply": "2023-01-12T18:50:43.655339Z"
    },
    "papermill": {
     "duration": 0.030101,
     "end_time": "2023-01-12T18:50:43.658573",
     "exception": false,
     "start_time": "2023-01-12T18:50:43.628472",
     "status": "completed"
    },
    "tags": []
   },
   "outputs": [],
   "source": [
    "def separate_variables(df,treshold=10):\n",
    "    numeric_vars = []\n",
    "    categorical_vars = []\n",
    "    other_vars = []\n",
    "    \n",
    "    for col in df.columns:\n",
    "        if (df[col].dtype == \"float64\" or df[col].dtype ==  \"int64\") and len(df[col].unique()) > treshold:\n",
    "            numeric_vars.append(col)\n",
    "        elif len(df[col].unique()) > treshold: \n",
    "            other_vars.append(col)\n",
    "        else:\n",
    "            categorical_vars.append(col)\n",
    "    \n",
    "    print(\"Numerik değişkenler:{} \\nKategorik değişkenler:{} \\nDiğer değişkenler:{}\".format(numeric_vars, categorical_vars,other_vars))\n",
    "    return numeric_vars, categorical_vars, other_vars"
   ]
  },
  {
   "cell_type": "code",
   "execution_count": 12,
   "id": "cf27754a",
   "metadata": {
    "execution": {
     "iopub.execute_input": "2023-01-12T18:50:43.698681Z",
     "iopub.status.busy": "2023-01-12T18:50:43.698249Z",
     "iopub.status.idle": "2023-01-12T18:50:43.720187Z",
     "shell.execute_reply": "2023-01-12T18:50:43.718800Z"
    },
    "papermill": {
     "duration": 0.04488,
     "end_time": "2023-01-12T18:50:43.722535",
     "exception": false,
     "start_time": "2023-01-12T18:50:43.677655",
     "status": "completed"
    },
    "tags": []
   },
   "outputs": [
    {
     "name": "stdout",
     "output_type": "stream",
     "text": [
      "Numerik değişkenler:['AQI Value', 'CO AQI Value', 'Ozone AQI Value', 'NO2 AQI Value', 'PM2.5 AQI Value'] \n",
      "Kategorik değişkenler:['AQI Category', 'CO AQI Category', 'Ozone AQI Category', 'NO2 AQI Category', 'PM2.5 AQI Category'] \n",
      "Diğer değişkenler:['Country', 'City']\n"
     ]
    }
   ],
   "source": [
    "numeric_vars, categorical_vars, other_vars = separate_variables(df)"
   ]
  },
  {
   "cell_type": "markdown",
   "id": "772ce63e",
   "metadata": {
    "papermill": {
     "duration": 0.018997,
     "end_time": "2023-01-12T18:50:43.760548",
     "exception": false,
     "start_time": "2023-01-12T18:50:43.741551",
     "status": "completed"
    },
    "tags": []
   },
   "source": [
    "#numerik değişkenlerin aykırı değerlerini grafik üzerinde görelim "
   ]
  },
  {
   "cell_type": "code",
   "execution_count": 13,
   "id": "8bf2a6e0",
   "metadata": {
    "execution": {
     "iopub.execute_input": "2023-01-12T18:50:43.799769Z",
     "iopub.status.busy": "2023-01-12T18:50:43.799359Z",
     "iopub.status.idle": "2023-01-12T18:50:44.573048Z",
     "shell.execute_reply": "2023-01-12T18:50:44.572248Z"
    },
    "papermill": {
     "duration": 0.795881,
     "end_time": "2023-01-12T18:50:44.575189",
     "exception": false,
     "start_time": "2023-01-12T18:50:43.779308",
     "status": "completed"
    },
    "tags": []
   },
   "outputs": [
    {
     "data": {
      "text/plain": [
       "<function matplotlib.pyplot.show(close=None, block=None)>"
      ]
     },
     "execution_count": 13,
     "metadata": {},
     "output_type": "execute_result"
    },
    {
     "data": {
      "image/png": "[encoded data removed]",
      "text/plain": [
       "<Figure size 1440x720 with 6 Axes>"
      ]
     },
     "metadata": {
      "needs_background": "light"
     },
     "output_type": "display_data"
    }
   ],
   "source": [
    "fig, axs = plt.subplots(2, 3)\n",
    "plt.gcf().set_size_inches(20, 10)\n",
    "for i, col in enumerate(numeric_vars):\n",
    "    sns.boxplot(df[col], ax=axs[i // 3, i % 3])\n",
    "plt.show"
   ]
  },
  {
   "cell_type": "markdown",
   "id": "355582d7",
   "metadata": {
    "papermill": {
     "duration": 0.020095,
     "end_time": "2023-01-12T18:50:44.615043",
     "exception": false,
     "start_time": "2023-01-12T18:50:44.594948",
     "status": "completed"
    },
    "tags": []
   },
   "source": [
    "#verimizde varsayılan eşik değerlere göre aykırı değer sayılabilecek çok sayıda değişken görünüyor\n",
    "#bunları doğrudan aykırı değer olarak değerlendirmenin doğru olmadığını düşünüyoruz. \n",
    "#bu yüzden verinin üçte birinci (Q1) ve üçte üçüncü (Q3) kuartil değerlerini kendimiz hesapladığımız bir fonksiyon yazalım"
   ]
  },
  {
   "cell_type": "code",
   "execution_count": 14,
   "id": "41476c5d",
   "metadata": {
    "execution": {
     "iopub.execute_input": "2023-01-12T18:50:44.656773Z",
     "iopub.status.busy": "2023-01-12T18:50:44.655797Z",
     "iopub.status.idle": "2023-01-12T18:50:44.661526Z",
     "shell.execute_reply": "2023-01-12T18:50:44.660690Z"
    },
    "papermill": {
     "duration": 0.029485,
     "end_time": "2023-01-12T18:50:44.663630",
     "exception": false,
     "start_time": "2023-01-12T18:50:44.634145",
     "status": "completed"
    },
    "tags": []
   },
   "outputs": [],
   "source": [
    "def outlier_thresholds(dataframe, col_name, q1=0.05, q3=0.95):\n",
    "    quartile1 = dataframe[col_name].quantile(q1)\n",
    "    quartile3 = dataframe[col_name].quantile(q3)\n",
    "    interquantile_range = quartile3 - quartile1\n",
    "    up_limit = quartile3 + 1.5 * interquantile_range\n",
    "    low_limit = quartile1 - 1.5 * interquantile_range\n",
    "    return low_limit, up_limit"
   ]
  },
  {
   "cell_type": "markdown",
   "id": "a2dc3920",
   "metadata": {
    "papermill": {
     "duration": 0.019706,
     "end_time": "2023-01-12T18:50:44.702932",
     "exception": false,
     "start_time": "2023-01-12T18:50:44.683226",
     "status": "completed"
    },
    "tags": []
   },
   "source": [
    "#buna göre aykırı değerleri tekrar gözden geçirelim. "
   ]
  },
  {
   "cell_type": "code",
   "execution_count": 15,
   "id": "e99f26f8",
   "metadata": {
    "execution": {
     "iopub.execute_input": "2023-01-12T18:50:44.744682Z",
     "iopub.status.busy": "2023-01-12T18:50:44.743445Z",
     "iopub.status.idle": "2023-01-12T18:50:44.750317Z",
     "shell.execute_reply": "2023-01-12T18:50:44.749542Z"
    },
    "papermill": {
     "duration": 0.029908,
     "end_time": "2023-01-12T18:50:44.752513",
     "exception": false,
     "start_time": "2023-01-12T18:50:44.722605",
     "status": "completed"
    },
    "tags": []
   },
   "outputs": [],
   "source": [
    "def check_outlier(dataframe, col_name):\n",
    "    low_limit, up_limit = outlier_thresholds(dataframe, col_name)\n",
    "    if dataframe[(dataframe[col_name] > up_limit) | (dataframe[col_name] < low_limit)].any(axis=None):\n",
    "        return True    \n",
    "    else:\n",
    "        return False"
   ]
  },
  {
   "cell_type": "code",
   "execution_count": 16,
   "id": "f2f1a812",
   "metadata": {
    "execution": {
     "iopub.execute_input": "2023-01-12T18:50:44.793228Z",
     "iopub.status.busy": "2023-01-12T18:50:44.792563Z",
     "iopub.status.idle": "2023-01-12T18:50:44.798130Z",
     "shell.execute_reply": "2023-01-12T18:50:44.797423Z"
    },
    "papermill": {
     "duration": 0.028268,
     "end_time": "2023-01-12T18:50:44.800233",
     "exception": false,
     "start_time": "2023-01-12T18:50:44.771965",
     "status": "completed"
    },
    "tags": []
   },
   "outputs": [],
   "source": [
    "def grab_outliers(dataframe, col_name):\n",
    "    low, up = outlier_thresholds(dataframe, col_name)\n",
    "    outlier_index = dataframe[((dataframe[col_name] < low) | (dataframe[col_name] > up))].index\n",
    "    return outlier_index"
   ]
  },
  {
   "cell_type": "code",
   "execution_count": 17,
   "id": "1f86f2ca",
   "metadata": {
    "execution": {
     "iopub.execute_input": "2023-01-12T18:50:44.842801Z",
     "iopub.status.busy": "2023-01-12T18:50:44.842136Z",
     "iopub.status.idle": "2023-01-12T18:50:44.864482Z",
     "shell.execute_reply": "2023-01-12T18:50:44.862953Z"
    },
    "papermill": {
     "duration": 0.047611,
     "end_time": "2023-01-12T18:50:44.867428",
     "exception": false,
     "start_time": "2023-01-12T18:50:44.819817",
     "status": "completed"
    },
    "tags": []
   },
   "outputs": [
    {
     "name": "stdout",
     "output_type": "stream",
     "text": [
      "AQI Value sütununda;\n",
      "132 adet aykırı değerli örneklem vardır (%0.573)\n",
      "\n",
      "CO AQI Value sütununda;\n",
      "93 adet aykırı değerli örneklem vardır (%0.404)\n",
      "\n",
      "Ozone AQI Value sütununda;\n",
      "33 adet aykırı değerli örneklem vardır (%0.143)\n",
      "\n",
      "NO2 AQI Value sütununda;\n",
      "105 adet aykırı değerli örneklem vardır (%0.456)\n",
      "\n",
      "PM2.5 AQI Value sütununda;\n",
      "99 adet aykırı değerli örneklem vardır (%0.430)\n",
      "\n"
     ]
    }
   ],
   "source": [
    "for col in numeric_vars:\n",
    "    outlier_index = grab_outliers(df,col) \n",
    "    percentage_outliers =  len(outlier_index)/len(df[col])* 100\n",
    "    print(f\"{col} sütununda;\\n{len(outlier_index)} adet aykırı değerli örneklem vardır (%{percentage_outliers:.3f})\\n\")"
   ]
  },
  {
   "cell_type": "markdown",
   "id": "d80b7226",
   "metadata": {
    "papermill": {
     "duration": 0.018925,
     "end_time": "2023-01-12T18:50:44.906330",
     "exception": false,
     "start_time": "2023-01-12T18:50:44.887405",
     "status": "completed"
    },
    "tags": []
   },
   "source": [
    "#q1 = 0.05 ve q3 = 0.95 değerleriyle elde ettiğimiz aykırılıkların silinmesi yaklaşımını uygulayalım "
   ]
  },
  {
   "cell_type": "code",
   "execution_count": 18,
   "id": "5b4af5b4",
   "metadata": {
    "execution": {
     "iopub.execute_input": "2023-01-12T18:50:44.947713Z",
     "iopub.status.busy": "2023-01-12T18:50:44.947294Z",
     "iopub.status.idle": "2023-01-12T18:50:44.984906Z",
     "shell.execute_reply": "2023-01-12T18:50:44.983777Z"
    },
    "papermill": {
     "duration": 0.061978,
     "end_time": "2023-01-12T18:50:44.987608",
     "exception": false,
     "start_time": "2023-01-12T18:50:44.925630",
     "status": "completed"
    },
    "tags": []
   },
   "outputs": [],
   "source": [
    "#numerik sütunları döngü içerisinde aykırı değerlerinden arındıralım. \n",
    "for col in numeric_vars:\n",
    "    low_limit, up_limit = outlier_thresholds(df, col)\n",
    "    df = df[~((df[col] < low_limit) | (df[col] > up_limit))]"
   ]
  },
  {
   "cell_type": "code",
   "execution_count": 19,
   "id": "27dd1e88",
   "metadata": {
    "execution": {
     "iopub.execute_input": "2023-01-12T18:50:45.027225Z",
     "iopub.status.busy": "2023-01-12T18:50:45.026860Z",
     "iopub.status.idle": "2023-01-12T18:50:45.032709Z",
     "shell.execute_reply": "2023-01-12T18:50:45.032008Z"
    },
    "papermill": {
     "duration": 0.02792,
     "end_time": "2023-01-12T18:50:45.034612",
     "exception": false,
     "start_time": "2023-01-12T18:50:45.006692",
     "status": "completed"
    },
    "tags": []
   },
   "outputs": [
    {
     "data": {
      "text/plain": [
       "(22702, 12)"
      ]
     },
     "execution_count": 19,
     "metadata": {},
     "output_type": "execute_result"
    }
   ],
   "source": [
    "#son haliyle verimizin boyutuna bakalım \n",
    "df.shape"
   ]
  },
  {
   "cell_type": "code",
   "execution_count": 20,
   "id": "1697149b",
   "metadata": {
    "execution": {
     "iopub.execute_input": "2023-01-12T18:50:45.075209Z",
     "iopub.status.busy": "2023-01-12T18:50:45.074322Z",
     "iopub.status.idle": "2023-01-12T18:50:45.883950Z",
     "shell.execute_reply": "2023-01-12T18:50:45.883081Z"
    },
    "papermill": {
     "duration": 0.833037,
     "end_time": "2023-01-12T18:50:45.886558",
     "exception": false,
     "start_time": "2023-01-12T18:50:45.053521",
     "status": "completed"
    },
    "tags": []
   },
   "outputs": [
    {
     "data": {
      "text/plain": [
       "<function matplotlib.pyplot.show(close=None, block=None)>"
      ]
     },
     "execution_count": 20,
     "metadata": {},
     "output_type": "execute_result"
    },
    {
     "data": {
      "image/png": "[encoded data removed]",
      "text/plain": [
       "<Figure size 1440x1080 with 6 Axes>"
      ]
     },
     "metadata": {
      "needs_background": "light"
     },
     "output_type": "display_data"
    }
   ],
   "source": [
    "fig, axs = plt.subplots(2, 3)\n",
    "plt.gcf().set_size_inches(20, 15)\n",
    "for i, col in enumerate(numeric_vars):\n",
    "    sns.boxplot(df[col], ax=axs[i // 3, i % 3])\n",
    "    axs[i // 3, i % 3].set_title(col)\n",
    "\n",
    "plt.show"
   ]
  },
  {
   "cell_type": "markdown",
   "id": "ce2a10ed",
   "metadata": {
    "papermill": {
     "duration": 0.020021,
     "end_time": "2023-01-12T18:50:45.927700",
     "exception": false,
     "start_time": "2023-01-12T18:50:45.907679",
     "status": "completed"
    },
    "tags": []
   },
   "source": [
    "#bu sonuçlara göre, CO AQI value değerlerinin benzer özellikte bir kısmının aykırı değer olarak değerlendirildiğini tespit ettik \n",
    "#bu verinin içerdiği anlamı kaybetmesine sebep olabilir.\n",
    "#emin olmak için veri içerisinde barınan her numerik değişkene karşılık gelen kategorik değişkenlerin de kutu grafiğini çizdirelim."
   ]
  },
  {
   "cell_type": "code",
   "execution_count": 21,
   "id": "c0de9aff",
   "metadata": {
    "execution": {
     "iopub.execute_input": "2023-01-12T18:50:45.970579Z",
     "iopub.status.busy": "2023-01-12T18:50:45.969977Z",
     "iopub.status.idle": "2023-01-12T18:50:45.974151Z",
     "shell.execute_reply": "2023-01-12T18:50:45.973406Z"
    },
    "papermill": {
     "duration": 0.027908,
     "end_time": "2023-01-12T18:50:45.976180",
     "exception": false,
     "start_time": "2023-01-12T18:50:45.948272",
     "status": "completed"
    },
    "tags": []
   },
   "outputs": [],
   "source": [
    "cat_num_dict = dict(zip(categorical_vars,numeric_vars))"
   ]
  },
  {
   "cell_type": "code",
   "execution_count": 22,
   "id": "74926a86",
   "metadata": {
    "execution": {
     "iopub.execute_input": "2023-01-12T18:50:46.018617Z",
     "iopub.status.busy": "2023-01-12T18:50:46.017490Z",
     "iopub.status.idle": "2023-01-12T18:50:48.204201Z",
     "shell.execute_reply": "2023-01-12T18:50:48.203110Z"
    },
    "papermill": {
     "duration": 2.210943,
     "end_time": "2023-01-12T18:50:48.207033",
     "exception": false,
     "start_time": "2023-01-12T18:50:45.996090",
     "status": "completed"
    },
    "tags": []
   },
   "outputs": [
    {
     "data": {
      "text/plain": [
       "<function matplotlib.pyplot.show(close=None, block=None)>"
      ]
     },
     "execution_count": 22,
     "metadata": {},
     "output_type": "execute_result"
    },
    {
     "data": {
      "image/png": "[encoded data removed]",
      "text/plain": [
       "<Figure size 1440x1080 with 6 Axes>"
      ]
     },
     "metadata": {
      "needs_background": "light"
     },
     "output_type": "display_data"
    }
   ],
   "source": [
    "fig, axs = plt.subplots(2, 3)\n",
    "plt.gcf().set_size_inches(20, 15)\n",
    "for i, col in enumerate(numeric_vars):\n",
    "    sns.boxplot(x=list(cat_num_dict.keys())[i], y=list(cat_num_dict.values())[i], data=df,ax=axs[i // 3, i % 3])\n",
    "\n",
    "\n",
    "plt.show"
   ]
  },
  {
   "cell_type": "markdown",
   "id": "4a36c11e",
   "metadata": {
    "papermill": {
     "duration": 0.020946,
     "end_time": "2023-01-12T18:50:48.249360",
     "exception": false,
     "start_time": "2023-01-12T18:50:48.228414",
     "status": "completed"
    },
    "tags": []
   },
   "source": [
    ">#tahmin ettiğimiz gibi CO2 AQI değişkeninde bozulmaya neden olmuşuz. başlangıçta 3 kategorisi bulunan CO2 value değeri normal dağılıma \n",
    "#sahip olmadığı için, q1,q3 eşikleri anlamlı verileri kaybetmemize de sebep oldu. \n",
    "#bunu istemediğimizden verimizde aykırı değerlere yönelik işlem yapmamayı tercih ediyoruz. "
   ]
  },
  {
   "cell_type": "code",
   "execution_count": 23,
   "id": "b4f1cff3",
   "metadata": {
    "execution": {
     "iopub.execute_input": "2023-01-12T18:50:48.294723Z",
     "iopub.status.busy": "2023-01-12T18:50:48.293633Z",
     "iopub.status.idle": "2023-01-12T18:50:48.355430Z",
     "shell.execute_reply": "2023-01-12T18:50:48.354609Z"
    },
    "papermill": {
     "duration": 0.086894,
     "end_time": "2023-01-12T18:50:48.357872",
     "exception": false,
     "start_time": "2023-01-12T18:50:48.270978",
     "status": "completed"
    },
    "tags": []
   },
   "outputs": [],
   "source": [
    "#veriyi tekrar yükleyip eksik değerlerden kurtulalım.\n",
    "df = pd.read_csv(\"/kaggle/input/global-air-pollution-dataset/global air pollution dataset.csv\")\n",
    "df = df.dropna()"
   ]
  },
  {
   "cell_type": "code",
   "execution_count": 24,
   "id": "f3fd1468",
   "metadata": {
    "execution": {
     "iopub.execute_input": "2023-01-12T18:50:48.403861Z",
     "iopub.status.busy": "2023-01-12T18:50:48.402882Z",
     "iopub.status.idle": "2023-01-12T18:50:48.758187Z",
     "shell.execute_reply": "2023-01-12T18:50:48.757051Z"
    },
    "papermill": {
     "duration": 0.380514,
     "end_time": "2023-01-12T18:50:48.760492",
     "exception": false,
     "start_time": "2023-01-12T18:50:48.379978",
     "status": "completed"
    },
    "tags": []
   },
   "outputs": [
    {
     "data": {
      "image/png": "[encoded data removed]",
      "text/plain": [
       "<Figure size 432x288 with 2 Axes>"
      ]
     },
     "metadata": {
      "needs_background": "light"
     },
     "output_type": "display_data"
    }
   ],
   "source": [
    "#korelasyon matrisine bakalım\n",
    "sns.heatmap(df.corr(),annot=True, cbar=True, cmap='Greens', fmt='.2f');"
   ]
  },
  {
   "cell_type": "markdown",
   "id": "daff12df",
   "metadata": {
    "papermill": {
     "duration": 0.022128,
     "end_time": "2023-01-12T18:50:48.805703",
     "exception": false,
     "start_time": "2023-01-12T18:50:48.783575",
     "status": "completed"
    },
    "tags": []
   },
   "source": [
    "\"\"\"\n",
    "tablomuza göre yüksek korelasyonlu 2 değişkenimiz var.\n",
    "\"\"\""
   ]
  },
  {
   "cell_type": "markdown",
   "id": "a003c51b",
   "metadata": {
    "papermill": {
     "duration": 0.021856,
     "end_time": "2023-01-12T18:50:48.849976",
     "exception": false,
     "start_time": "2023-01-12T18:50:48.828120",
     "status": "completed"
    },
    "tags": []
   },
   "source": [
    "**Tahmin Modeli için hazırlık****"
   ]
  },
  {
   "cell_type": "code",
   "execution_count": 25,
   "id": "a0a5753e",
   "metadata": {
    "execution": {
     "iopub.execute_input": "2023-01-12T18:50:48.896656Z",
     "iopub.status.busy": "2023-01-12T18:50:48.896045Z",
     "iopub.status.idle": "2023-01-12T18:50:48.910553Z",
     "shell.execute_reply": "2023-01-12T18:50:48.909776Z"
    },
    "papermill": {
     "duration": 0.040458,
     "end_time": "2023-01-12T18:50:48.912535",
     "exception": false,
     "start_time": "2023-01-12T18:50:48.872077",
     "status": "completed"
    },
    "tags": []
   },
   "outputs": [
    {
     "data": {
      "text/html": [
       "<div>\n",
       "<style scoped>\n",
       "    .dataframe tbody tr th:only-of-type {\n",
       "        vertical-align: middle;\n",
       "    }\n",
       "\n",
       "    .dataframe tbody tr th {\n",
       "        vertical-align: top;\n",
       "    }\n",
       "\n",
       "    .dataframe thead th {\n",
       "        text-align: right;\n",
       "    }\n",
       "</style>\n",
       "<table border=\"1\" class=\"dataframe\">\n",
       "  <thead>\n",
       "    <tr style=\"text-align: right;\">\n",
       "      <th></th>\n",
       "      <th>Country</th>\n",
       "      <th>City</th>\n",
       "      <th>AQI Value</th>\n",
       "      <th>AQI Category</th>\n",
       "      <th>CO AQI Value</th>\n",
       "      <th>CO AQI Category</th>\n",
       "      <th>Ozone AQI Value</th>\n",
       "      <th>Ozone AQI Category</th>\n",
       "      <th>NO2 AQI Value</th>\n",
       "      <th>NO2 AQI Category</th>\n",
       "      <th>PM2.5 AQI Value</th>\n",
       "      <th>PM2.5 AQI Category</th>\n",
       "    </tr>\n",
       "  </thead>\n",
       "  <tbody>\n",
       "    <tr>\n",
       "      <th>0</th>\n",
       "      <td>Russian Federation</td>\n",
       "      <td>Praskoveya</td>\n",
       "      <td>51</td>\n",
       "      <td>Moderate</td>\n",
       "      <td>1</td>\n",
       "      <td>Good</td>\n",
       "      <td>36</td>\n",
       "      <td>Good</td>\n",
       "      <td>0</td>\n",
       "      <td>Good</td>\n",
       "      <td>51</td>\n",
       "      <td>Moderate</td>\n",
       "    </tr>\n",
       "    <tr>\n",
       "      <th>1</th>\n",
       "      <td>Brazil</td>\n",
       "      <td>Presidente Dutra</td>\n",
       "      <td>41</td>\n",
       "      <td>Good</td>\n",
       "      <td>1</td>\n",
       "      <td>Good</td>\n",
       "      <td>5</td>\n",
       "      <td>Good</td>\n",
       "      <td>1</td>\n",
       "      <td>Good</td>\n",
       "      <td>41</td>\n",
       "      <td>Good</td>\n",
       "    </tr>\n",
       "    <tr>\n",
       "      <th>2</th>\n",
       "      <td>Italy</td>\n",
       "      <td>Priolo Gargallo</td>\n",
       "      <td>66</td>\n",
       "      <td>Moderate</td>\n",
       "      <td>1</td>\n",
       "      <td>Good</td>\n",
       "      <td>39</td>\n",
       "      <td>Good</td>\n",
       "      <td>2</td>\n",
       "      <td>Good</td>\n",
       "      <td>66</td>\n",
       "      <td>Moderate</td>\n",
       "    </tr>\n",
       "    <tr>\n",
       "      <th>3</th>\n",
       "      <td>Poland</td>\n",
       "      <td>Przasnysz</td>\n",
       "      <td>34</td>\n",
       "      <td>Good</td>\n",
       "      <td>1</td>\n",
       "      <td>Good</td>\n",
       "      <td>34</td>\n",
       "      <td>Good</td>\n",
       "      <td>0</td>\n",
       "      <td>Good</td>\n",
       "      <td>20</td>\n",
       "      <td>Good</td>\n",
       "    </tr>\n",
       "    <tr>\n",
       "      <th>4</th>\n",
       "      <td>France</td>\n",
       "      <td>Punaauia</td>\n",
       "      <td>22</td>\n",
       "      <td>Good</td>\n",
       "      <td>0</td>\n",
       "      <td>Good</td>\n",
       "      <td>22</td>\n",
       "      <td>Good</td>\n",
       "      <td>0</td>\n",
       "      <td>Good</td>\n",
       "      <td>6</td>\n",
       "      <td>Good</td>\n",
       "    </tr>\n",
       "  </tbody>\n",
       "</table>\n",
       "</div>"
      ],
      "text/plain": [
       "              Country              City  AQI Value AQI Category  CO AQI Value CO AQI Category  Ozone AQI Value Ozone AQI Category  NO2 AQI Value NO2 AQI Category  PM2.5 AQI Value PM2.5 AQI Category\n",
       "0  Russian Federation        Praskoveya         51     Moderate             1            Good               36               Good              0             Good               51           Moderate\n",
       "1              Brazil  Presidente Dutra         41         Good             1            Good                5               Good              1             Good               41               Good\n",
       "2               Italy   Priolo Gargallo         66     Moderate             1            Good               39               Good              2             Good               66           Moderate\n",
       "3              Poland         Przasnysz         34         Good             1            Good               34               Good              0             Good               20               Good\n",
       "4              France          Punaauia         22         Good             0            Good               22               Good              0             Good                6               Good"
      ]
     },
     "execution_count": 25,
     "metadata": {},
     "output_type": "execute_result"
    }
   ],
   "source": [
    "df.head()"
   ]
  },
  {
   "cell_type": "code",
   "execution_count": 26,
   "id": "55952a15",
   "metadata": {
    "execution": {
     "iopub.execute_input": "2023-01-12T18:50:48.959807Z",
     "iopub.status.busy": "2023-01-12T18:50:48.959237Z",
     "iopub.status.idle": "2023-01-12T18:50:48.963989Z",
     "shell.execute_reply": "2023-01-12T18:50:48.963101Z"
    },
    "papermill": {
     "duration": 0.031183,
     "end_time": "2023-01-12T18:50:48.966134",
     "exception": false,
     "start_time": "2023-01-12T18:50:48.934951",
     "status": "completed"
    },
    "tags": []
   },
   "outputs": [],
   "source": [
    "#eşsiz değerlere bakmak için bir fonksiyon yazalım (yalnızca object tipinde )\n",
    "def count_unique_values(df):\n",
    "    for col in df.columns:\n",
    "        if df[col].dtype == object:\n",
    "            print(f\"{col} sütununda {df[col].nunique()} eşsiz değer var \\n\")"
   ]
  },
  {
   "cell_type": "code",
   "execution_count": 27,
   "id": "8737024a",
   "metadata": {
    "execution": {
     "iopub.execute_input": "2023-01-12T18:50:49.013183Z",
     "iopub.status.busy": "2023-01-12T18:50:49.012816Z",
     "iopub.status.idle": "2023-01-12T18:50:49.019144Z",
     "shell.execute_reply": "2023-01-12T18:50:49.018081Z"
    },
    "papermill": {
     "duration": 0.032845,
     "end_time": "2023-01-12T18:50:49.021349",
     "exception": false,
     "start_time": "2023-01-12T18:50:48.988504",
     "status": "completed"
    },
    "tags": []
   },
   "outputs": [
    {
     "data": {
      "text/plain": [
       "(23035, 12)"
      ]
     },
     "execution_count": 27,
     "metadata": {},
     "output_type": "execute_result"
    }
   ],
   "source": [
    "df.shape"
   ]
  },
  {
   "cell_type": "code",
   "execution_count": 28,
   "id": "8190b5ca",
   "metadata": {
    "execution": {
     "iopub.execute_input": "2023-01-12T18:50:49.068308Z",
     "iopub.status.busy": "2023-01-12T18:50:49.067929Z",
     "iopub.status.idle": "2023-01-12T18:50:49.090733Z",
     "shell.execute_reply": "2023-01-12T18:50:49.089437Z"
    },
    "papermill": {
     "duration": 0.049624,
     "end_time": "2023-01-12T18:50:49.093031",
     "exception": false,
     "start_time": "2023-01-12T18:50:49.043407",
     "status": "completed"
    },
    "tags": []
   },
   "outputs": [
    {
     "name": "stdout",
     "output_type": "stream",
     "text": [
      "Country sütununda 175 eşsiz değer var \n",
      "\n",
      "City sütununda 23035 eşsiz değer var \n",
      "\n",
      "AQI Category sütununda 6 eşsiz değer var \n",
      "\n",
      "CO AQI Category sütununda 3 eşsiz değer var \n",
      "\n",
      "Ozone AQI Category sütununda 5 eşsiz değer var \n",
      "\n",
      "NO2 AQI Category sütununda 2 eşsiz değer var \n",
      "\n",
      "PM2.5 AQI Category sütununda 6 eşsiz değer var \n",
      "\n"
     ]
    }
   ],
   "source": [
    "count_unique_values(df)"
   ]
  },
  {
   "cell_type": "markdown",
   "id": "0642ce01",
   "metadata": {
    "papermill": {
     "duration": 0.022581,
     "end_time": "2023-01-12T18:50:49.138527",
     "exception": false,
     "start_time": "2023-01-12T18:50:49.115946",
     "status": "completed"
    },
    "tags": []
   },
   "source": [
    "#buna göre kategorik değişkenleri kuracağımız modellerin anlayabilmesi için encoding işlemlerinden geçirelim "
   ]
  },
  {
   "cell_type": "code",
   "execution_count": 29,
   "id": "6bfd5bd5",
   "metadata": {
    "execution": {
     "iopub.execute_input": "2023-01-12T18:50:49.186747Z",
     "iopub.status.busy": "2023-01-12T18:50:49.185970Z",
     "iopub.status.idle": "2023-01-12T18:50:49.191406Z",
     "shell.execute_reply": "2023-01-12T18:50:49.190335Z"
    },
    "papermill": {
     "duration": 0.031961,
     "end_time": "2023-01-12T18:50:49.193662",
     "exception": false,
     "start_time": "2023-01-12T18:50:49.161701",
     "status": "completed"
    },
    "tags": []
   },
   "outputs": [],
   "source": [
    "#one hot encoder nesnemizi oluşturalım\n",
    "one_hot_encoder = OneHotEncoder()\n",
    "#ohe yapacağımız fonksiyonu yazalım \n",
    "def one_hot_encoder(dataframe, categorical_cols, drop_first=False):\n",
    "    dataframe = pd.get_dummies(dataframe, columns=categorical_cols, drop_first=drop_first)\n",
    "    return dataframe"
   ]
  },
  {
   "cell_type": "code",
   "execution_count": 30,
   "id": "d89f2c9a",
   "metadata": {
    "execution": {
     "iopub.execute_input": "2023-01-12T18:50:49.239879Z",
     "iopub.status.busy": "2023-01-12T18:50:49.239479Z",
     "iopub.status.idle": "2023-01-12T18:50:49.263601Z",
     "shell.execute_reply": "2023-01-12T18:50:49.262499Z"
    },
    "papermill": {
     "duration": 0.049469,
     "end_time": "2023-01-12T18:50:49.265670",
     "exception": false,
     "start_time": "2023-01-12T18:50:49.216201",
     "status": "completed"
    },
    "tags": []
   },
   "outputs": [
    {
     "data": {
      "text/plain": [
       "['AQI Category',\n",
       " 'CO AQI Category',\n",
       " 'Ozone AQI Category',\n",
       " 'NO2 AQI Category',\n",
       " 'PM2.5 AQI Category']"
      ]
     },
     "execution_count": 30,
     "metadata": {},
     "output_type": "execute_result"
    }
   ],
   "source": [
    "#ohe uygulayacağımız kategorik değişkenleri filtreleyelim \n",
    "cate_cols = [col for col in df.columns if 10 >= df[col].nunique() > 1]\n",
    "\n",
    "cate_cols"
   ]
  },
  {
   "cell_type": "code",
   "execution_count": 31,
   "id": "3e66c83f",
   "metadata": {
    "execution": {
     "iopub.execute_input": "2023-01-12T18:50:49.313439Z",
     "iopub.status.busy": "2023-01-12T18:50:49.313003Z",
     "iopub.status.idle": "2023-01-12T18:50:49.352323Z",
     "shell.execute_reply": "2023-01-12T18:50:49.351246Z"
    },
    "papermill": {
     "duration": 0.066424,
     "end_time": "2023-01-12T18:50:49.354920",
     "exception": false,
     "start_time": "2023-01-12T18:50:49.288496",
     "status": "completed"
    },
    "tags": []
   },
   "outputs": [
    {
     "data": {
      "text/html": [
       "<div>\n",
       "<style scoped>\n",
       "    .dataframe tbody tr th:only-of-type {\n",
       "        vertical-align: middle;\n",
       "    }\n",
       "\n",
       "    .dataframe tbody tr th {\n",
       "        vertical-align: top;\n",
       "    }\n",
       "\n",
       "    .dataframe thead th {\n",
       "        text-align: right;\n",
       "    }\n",
       "</style>\n",
       "<table border=\"1\" class=\"dataframe\">\n",
       "  <thead>\n",
       "    <tr style=\"text-align: right;\">\n",
       "      <th></th>\n",
       "      <th>Country</th>\n",
       "      <th>City</th>\n",
       "      <th>AQI Value</th>\n",
       "      <th>CO AQI Value</th>\n",
       "      <th>Ozone AQI Value</th>\n",
       "      <th>NO2 AQI Value</th>\n",
       "      <th>PM2.5 AQI Value</th>\n",
       "      <th>AQI Category_Hazardous</th>\n",
       "      <th>AQI Category_Moderate</th>\n",
       "      <th>AQI Category_Unhealthy</th>\n",
       "      <th>AQI Category_Unhealthy for Sensitive Groups</th>\n",
       "      <th>AQI Category_Very Unhealthy</th>\n",
       "      <th>CO AQI Category_Moderate</th>\n",
       "      <th>CO AQI Category_Unhealthy for Sensitive Groups</th>\n",
       "      <th>Ozone AQI Category_Moderate</th>\n",
       "      <th>Ozone AQI Category_Unhealthy</th>\n",
       "      <th>Ozone AQI Category_Unhealthy for Sensitive Groups</th>\n",
       "      <th>Ozone AQI Category_Very Unhealthy</th>\n",
       "      <th>NO2 AQI Category_Moderate</th>\n",
       "      <th>PM2.5 AQI Category_Hazardous</th>\n",
       "      <th>PM2.5 AQI Category_Moderate</th>\n",
       "      <th>PM2.5 AQI Category_Unhealthy</th>\n",
       "      <th>PM2.5 AQI Category_Unhealthy for Sensitive Groups</th>\n",
       "      <th>PM2.5 AQI Category_Very Unhealthy</th>\n",
       "    </tr>\n",
       "  </thead>\n",
       "  <tbody>\n",
       "    <tr>\n",
       "      <th>0</th>\n",
       "      <td>Russian Federation</td>\n",
       "      <td>Praskoveya</td>\n",
       "      <td>51</td>\n",
       "      <td>1</td>\n",
       "      <td>36</td>\n",
       "      <td>0</td>\n",
       "      <td>51</td>\n",
       "      <td>0</td>\n",
       "      <td>1</td>\n",
       "      <td>0</td>\n",
       "      <td>0</td>\n",
       "      <td>0</td>\n",
       "      <td>0</td>\n",
       "      <td>0</td>\n",
       "      <td>0</td>\n",
       "      <td>0</td>\n",
       "      <td>0</td>\n",
       "      <td>0</td>\n",
       "      <td>0</td>\n",
       "      <td>0</td>\n",
       "      <td>1</td>\n",
       "      <td>0</td>\n",
       "      <td>0</td>\n",
       "      <td>0</td>\n",
       "    </tr>\n",
       "    <tr>\n",
       "      <th>1</th>\n",
       "      <td>Brazil</td>\n",
       "      <td>Presidente Dutra</td>\n",
       "      <td>41</td>\n",
       "      <td>1</td>\n",
       "      <td>5</td>\n",
       "      <td>1</td>\n",
       "      <td>41</td>\n",
       "      <td>0</td>\n",
       "      <td>0</td>\n",
       "      <td>0</td>\n",
       "      <td>0</td>\n",
       "      <td>0</td>\n",
       "      <td>0</td>\n",
       "      <td>0</td>\n",
       "      <td>0</td>\n",
       "      <td>0</td>\n",
       "      <td>0</td>\n",
       "      <td>0</td>\n",
       "      <td>0</td>\n",
       "      <td>0</td>\n",
       "      <td>0</td>\n",
       "      <td>0</td>\n",
       "      <td>0</td>\n",
       "      <td>0</td>\n",
       "    </tr>\n",
       "    <tr>\n",
       "      <th>2</th>\n",
       "      <td>Italy</td>\n",
       "      <td>Priolo Gargallo</td>\n",
       "      <td>66</td>\n",
       "      <td>1</td>\n",
       "      <td>39</td>\n",
       "      <td>2</td>\n",
       "      <td>66</td>\n",
       "      <td>0</td>\n",
       "      <td>1</td>\n",
       "      <td>0</td>\n",
       "      <td>0</td>\n",
       "      <td>0</td>\n",
       "      <td>0</td>\n",
       "      <td>0</td>\n",
       "      <td>0</td>\n",
       "      <td>0</td>\n",
       "      <td>0</td>\n",
       "      <td>0</td>\n",
       "      <td>0</td>\n",
       "      <td>0</td>\n",
       "      <td>1</td>\n",
       "      <td>0</td>\n",
       "      <td>0</td>\n",
       "      <td>0</td>\n",
       "    </tr>\n",
       "    <tr>\n",
       "      <th>3</th>\n",
       "      <td>Poland</td>\n",
       "      <td>Przasnysz</td>\n",
       "      <td>34</td>\n",
       "      <td>1</td>\n",
       "      <td>34</td>\n",
       "      <td>0</td>\n",
       "      <td>20</td>\n",
       "      <td>0</td>\n",
       "      <td>0</td>\n",
       "      <td>0</td>\n",
       "      <td>0</td>\n",
       "      <td>0</td>\n",
       "      <td>0</td>\n",
       "      <td>0</td>\n",
       "      <td>0</td>\n",
       "      <td>0</td>\n",
       "      <td>0</td>\n",
       "      <td>0</td>\n",
       "      <td>0</td>\n",
       "      <td>0</td>\n",
       "      <td>0</td>\n",
       "      <td>0</td>\n",
       "      <td>0</td>\n",
       "      <td>0</td>\n",
       "    </tr>\n",
       "    <tr>\n",
       "      <th>4</th>\n",
       "      <td>France</td>\n",
       "      <td>Punaauia</td>\n",
       "      <td>22</td>\n",
       "      <td>0</td>\n",
       "      <td>22</td>\n",
       "      <td>0</td>\n",
       "      <td>6</td>\n",
       "      <td>0</td>\n",
       "      <td>0</td>\n",
       "      <td>0</td>\n",
       "      <td>0</td>\n",
       "      <td>0</td>\n",
       "      <td>0</td>\n",
       "      <td>0</td>\n",
       "      <td>0</td>\n",
       "      <td>0</td>\n",
       "      <td>0</td>\n",
       "      <td>0</td>\n",
       "      <td>0</td>\n",
       "      <td>0</td>\n",
       "      <td>0</td>\n",
       "      <td>0</td>\n",
       "      <td>0</td>\n",
       "      <td>0</td>\n",
       "    </tr>\n",
       "  </tbody>\n",
       "</table>\n",
       "</div>"
      ],
      "text/plain": [
       "              Country              City  AQI Value  CO AQI Value  Ozone AQI Value  NO2 AQI Value  PM2.5 AQI Value  AQI Category_Hazardous  AQI Category_Moderate  AQI Category_Unhealthy  AQI Category_Unhealthy for Sensitive Groups  AQI Category_Very Unhealthy  CO AQI Category_Moderate  \\\n",
       "0  Russian Federation        Praskoveya         51             1               36              0               51                       0                      1                       0                                            0                            0                         0   \n",
       "1              Brazil  Presidente Dutra         41             1                5              1               41                       0                      0                       0                                            0                            0                         0   \n",
       "2               Italy   Priolo Gargallo         66             1               39              2               66                       0                      1                       0                                            0                            0                         0   \n",
       "3              Poland         Przasnysz         34             1               34              0               20                       0                      0                       0                                            0                            0                         0   \n",
       "4              France          Punaauia         22             0               22              0                6                       0                      0                       0                                            0                            0                         0   \n",
       "\n",
       "   CO AQI Category_Unhealthy for Sensitive Groups  Ozone AQI Category_Moderate  Ozone AQI Category_Unhealthy  Ozone AQI Category_Unhealthy for Sensitive Groups  Ozone AQI Category_Very Unhealthy  NO2 AQI Category_Moderate  PM2.5 AQI Category_Hazardous  PM2.5 AQI Category_Moderate  \\\n",
       "0                                               0                            0                             0                                                  0                                  0                          0                             0                            1   \n",
       "1                                               0                            0                             0                                                  0                                  0                          0                             0                            0   \n",
       "2                                               0                            0                             0                                                  0                                  0                          0                             0                            1   \n",
       "3                                               0                            0                             0                                                  0                                  0                          0                             0                            0   \n",
       "4                                               0                            0                             0                                                  0                                  0                          0                             0                            0   \n",
       "\n",
       "   PM2.5 AQI Category_Unhealthy  PM2.5 AQI Category_Unhealthy for Sensitive Groups  PM2.5 AQI Category_Very Unhealthy  \n",
       "0                             0                                                  0                                  0  \n",
       "1                             0                                                  0                                  0  \n",
       "2                             0                                                  0                                  0  \n",
       "3                             0                                                  0                                  0  \n",
       "4                             0                                                  0                                  0  "
      ]
     },
     "execution_count": 31,
     "metadata": {},
     "output_type": "execute_result"
    }
   ],
   "source": [
    "#beklediğimiz değişkenleri aldık şimdi ohe fonksiyonumuza bunları gönderelim ve yeni df olarak kaydedelim\n",
    "#dummy değişken tuzağına düşmemek için fonksiyonumuzda varsayılan False argümanını True olarak gönderdik\n",
    "df_last = one_hot_encoder(df, cate_cols,True)\n",
    "\n",
    "pd.set_option('display.max_columns', 30)\n",
    "df_last.head()"
   ]
  },
  {
   "cell_type": "code",
   "execution_count": 32,
   "id": "0806764a",
   "metadata": {
    "execution": {
     "iopub.execute_input": "2023-01-12T18:50:49.403262Z",
     "iopub.status.busy": "2023-01-12T18:50:49.402407Z",
     "iopub.status.idle": "2023-01-12T18:50:49.407523Z",
     "shell.execute_reply": "2023-01-12T18:50:49.406752Z"
    },
    "papermill": {
     "duration": 0.031554,
     "end_time": "2023-01-12T18:50:49.409593",
     "exception": false,
     "start_time": "2023-01-12T18:50:49.378039",
     "status": "completed"
    },
    "tags": []
   },
   "outputs": [],
   "source": [
    "#bağımlı değişkenimizi NO2 AQI Value olarak seçtik \n",
    "#bir anlam içermeyen city, country değişkenlerini, bağımlı değişkenimizi ve \n",
    "#doğrudan bağımlı değişkenden çıkarılan category değişkenimizi çıkarmak için listeye alalım \n",
    "\n",
    "drop_list = [\"Country\",\"City\",\"NO2 AQI Value\",\"NO2 AQI Category_Moderate\"]"
   ]
  },
  {
   "cell_type": "code",
   "execution_count": 33,
   "id": "e3d4d43a",
   "metadata": {
    "execution": {
     "iopub.execute_input": "2023-01-12T18:50:49.457238Z",
     "iopub.status.busy": "2023-01-12T18:50:49.456578Z",
     "iopub.status.idle": "2023-01-12T18:50:49.464080Z",
     "shell.execute_reply": "2023-01-12T18:50:49.463277Z"
    },
    "papermill": {
     "duration": 0.033883,
     "end_time": "2023-01-12T18:50:49.466263",
     "exception": false,
     "start_time": "2023-01-12T18:50:49.432380",
     "status": "completed"
    },
    "tags": []
   },
   "outputs": [],
   "source": [
    "X = df_last.drop(drop_list, axis=1)\n",
    "y = df_last[[\"NO2 AQI Value\"]]"
   ]
  },
  {
   "cell_type": "code",
   "execution_count": 34,
   "id": "bcbb7556",
   "metadata": {
    "execution": {
     "iopub.execute_input": "2023-01-12T18:50:49.513970Z",
     "iopub.status.busy": "2023-01-12T18:50:49.513295Z",
     "iopub.status.idle": "2023-01-12T18:50:49.529309Z",
     "shell.execute_reply": "2023-01-12T18:50:49.528297Z"
    },
    "papermill": {
     "duration": 0.042608,
     "end_time": "2023-01-12T18:50:49.531803",
     "exception": false,
     "start_time": "2023-01-12T18:50:49.489195",
     "status": "completed"
    },
    "tags": []
   },
   "outputs": [
    {
     "data": {
      "text/html": [
       "<div>\n",
       "<style scoped>\n",
       "    .dataframe tbody tr th:only-of-type {\n",
       "        vertical-align: middle;\n",
       "    }\n",
       "\n",
       "    .dataframe tbody tr th {\n",
       "        vertical-align: top;\n",
       "    }\n",
       "\n",
       "    .dataframe thead th {\n",
       "        text-align: right;\n",
       "    }\n",
       "</style>\n",
       "<table border=\"1\" class=\"dataframe\">\n",
       "  <thead>\n",
       "    <tr style=\"text-align: right;\">\n",
       "      <th></th>\n",
       "      <th>AQI Value</th>\n",
       "      <th>CO AQI Value</th>\n",
       "      <th>Ozone AQI Value</th>\n",
       "      <th>PM2.5 AQI Value</th>\n",
       "      <th>AQI Category_Hazardous</th>\n",
       "      <th>AQI Category_Moderate</th>\n",
       "      <th>AQI Category_Unhealthy</th>\n",
       "      <th>AQI Category_Unhealthy for Sensitive Groups</th>\n",
       "      <th>AQI Category_Very Unhealthy</th>\n",
       "      <th>CO AQI Category_Moderate</th>\n",
       "      <th>CO AQI Category_Unhealthy for Sensitive Groups</th>\n",
       "      <th>Ozone AQI Category_Moderate</th>\n",
       "      <th>Ozone AQI Category_Unhealthy</th>\n",
       "      <th>Ozone AQI Category_Unhealthy for Sensitive Groups</th>\n",
       "      <th>Ozone AQI Category_Very Unhealthy</th>\n",
       "      <th>PM2.5 AQI Category_Hazardous</th>\n",
       "      <th>PM2.5 AQI Category_Moderate</th>\n",
       "      <th>PM2.5 AQI Category_Unhealthy</th>\n",
       "      <th>PM2.5 AQI Category_Unhealthy for Sensitive Groups</th>\n",
       "      <th>PM2.5 AQI Category_Very Unhealthy</th>\n",
       "    </tr>\n",
       "  </thead>\n",
       "  <tbody>\n",
       "    <tr>\n",
       "      <th>0</th>\n",
       "      <td>51</td>\n",
       "      <td>1</td>\n",
       "      <td>36</td>\n",
       "      <td>51</td>\n",
       "      <td>0</td>\n",
       "      <td>1</td>\n",
       "      <td>0</td>\n",
       "      <td>0</td>\n",
       "      <td>0</td>\n",
       "      <td>0</td>\n",
       "      <td>0</td>\n",
       "      <td>0</td>\n",
       "      <td>0</td>\n",
       "      <td>0</td>\n",
       "      <td>0</td>\n",
       "      <td>0</td>\n",
       "      <td>1</td>\n",
       "      <td>0</td>\n",
       "      <td>0</td>\n",
       "      <td>0</td>\n",
       "    </tr>\n",
       "    <tr>\n",
       "      <th>1</th>\n",
       "      <td>41</td>\n",
       "      <td>1</td>\n",
       "      <td>5</td>\n",
       "      <td>41</td>\n",
       "      <td>0</td>\n",
       "      <td>0</td>\n",
       "      <td>0</td>\n",
       "      <td>0</td>\n",
       "      <td>0</td>\n",
       "      <td>0</td>\n",
       "      <td>0</td>\n",
       "      <td>0</td>\n",
       "      <td>0</td>\n",
       "      <td>0</td>\n",
       "      <td>0</td>\n",
       "      <td>0</td>\n",
       "      <td>0</td>\n",
       "      <td>0</td>\n",
       "      <td>0</td>\n",
       "      <td>0</td>\n",
       "    </tr>\n",
       "    <tr>\n",
       "      <th>2</th>\n",
       "      <td>66</td>\n",
       "      <td>1</td>\n",
       "      <td>39</td>\n",
       "      <td>66</td>\n",
       "      <td>0</td>\n",
       "      <td>1</td>\n",
       "      <td>0</td>\n",
       "      <td>0</td>\n",
       "      <td>0</td>\n",
       "      <td>0</td>\n",
       "      <td>0</td>\n",
       "      <td>0</td>\n",
       "      <td>0</td>\n",
       "      <td>0</td>\n",
       "      <td>0</td>\n",
       "      <td>0</td>\n",
       "      <td>1</td>\n",
       "      <td>0</td>\n",
       "      <td>0</td>\n",
       "      <td>0</td>\n",
       "    </tr>\n",
       "    <tr>\n",
       "      <th>3</th>\n",
       "      <td>34</td>\n",
       "      <td>1</td>\n",
       "      <td>34</td>\n",
       "      <td>20</td>\n",
       "      <td>0</td>\n",
       "      <td>0</td>\n",
       "      <td>0</td>\n",
       "      <td>0</td>\n",
       "      <td>0</td>\n",
       "      <td>0</td>\n",
       "      <td>0</td>\n",
       "      <td>0</td>\n",
       "      <td>0</td>\n",
       "      <td>0</td>\n",
       "      <td>0</td>\n",
       "      <td>0</td>\n",
       "      <td>0</td>\n",
       "      <td>0</td>\n",
       "      <td>0</td>\n",
       "      <td>0</td>\n",
       "    </tr>\n",
       "    <tr>\n",
       "      <th>4</th>\n",
       "      <td>22</td>\n",
       "      <td>0</td>\n",
       "      <td>22</td>\n",
       "      <td>6</td>\n",
       "      <td>0</td>\n",
       "      <td>0</td>\n",
       "      <td>0</td>\n",
       "      <td>0</td>\n",
       "      <td>0</td>\n",
       "      <td>0</td>\n",
       "      <td>0</td>\n",
       "      <td>0</td>\n",
       "      <td>0</td>\n",
       "      <td>0</td>\n",
       "      <td>0</td>\n",
       "      <td>0</td>\n",
       "      <td>0</td>\n",
       "      <td>0</td>\n",
       "      <td>0</td>\n",
       "      <td>0</td>\n",
       "    </tr>\n",
       "  </tbody>\n",
       "</table>\n",
       "</div>"
      ],
      "text/plain": [
       "   AQI Value  CO AQI Value  Ozone AQI Value  PM2.5 AQI Value  AQI Category_Hazardous  AQI Category_Moderate  AQI Category_Unhealthy  AQI Category_Unhealthy for Sensitive Groups  AQI Category_Very Unhealthy  CO AQI Category_Moderate  CO AQI Category_Unhealthy for Sensitive Groups  \\\n",
       "0         51             1               36               51                       0                      1                       0                                            0                            0                         0                                               0   \n",
       "1         41             1                5               41                       0                      0                       0                                            0                            0                         0                                               0   \n",
       "2         66             1               39               66                       0                      1                       0                                            0                            0                         0                                               0   \n",
       "3         34             1               34               20                       0                      0                       0                                            0                            0                         0                                               0   \n",
       "4         22             0               22                6                       0                      0                       0                                            0                            0                         0                                               0   \n",
       "\n",
       "   Ozone AQI Category_Moderate  Ozone AQI Category_Unhealthy  Ozone AQI Category_Unhealthy for Sensitive Groups  Ozone AQI Category_Very Unhealthy  PM2.5 AQI Category_Hazardous  PM2.5 AQI Category_Moderate  PM2.5 AQI Category_Unhealthy  PM2.5 AQI Category_Unhealthy for Sensitive Groups  \\\n",
       "0                            0                             0                                                  0                                  0                             0                            1                             0                                                  0   \n",
       "1                            0                             0                                                  0                                  0                             0                            0                             0                                                  0   \n",
       "2                            0                             0                                                  0                                  0                             0                            1                             0                                                  0   \n",
       "3                            0                             0                                                  0                                  0                             0                            0                             0                                                  0   \n",
       "4                            0                             0                                                  0                                  0                             0                            0                             0                                                  0   \n",
       "\n",
       "   PM2.5 AQI Category_Very Unhealthy  \n",
       "0                                  0  \n",
       "1                                  0  \n",
       "2                                  0  \n",
       "3                                  0  \n",
       "4                                  0  "
      ]
     },
     "execution_count": 34,
     "metadata": {},
     "output_type": "execute_result"
    }
   ],
   "source": [
    "#son haliyle modelimiz kurulmaya hazır. \n",
    "X.head()"
   ]
  },
  {
   "cell_type": "code",
   "execution_count": 35,
   "id": "7270b2bd",
   "metadata": {
    "execution": {
     "iopub.execute_input": "2023-01-12T18:50:49.582558Z",
     "iopub.status.busy": "2023-01-12T18:50:49.581770Z",
     "iopub.status.idle": "2023-01-12T18:50:49.591085Z",
     "shell.execute_reply": "2023-01-12T18:50:49.590217Z"
    },
    "papermill": {
     "duration": 0.036375,
     "end_time": "2023-01-12T18:50:49.593109",
     "exception": false,
     "start_time": "2023-01-12T18:50:49.556734",
     "status": "completed"
    },
    "tags": []
   },
   "outputs": [
    {
     "data": {
      "text/html": [
       "<div>\n",
       "<style scoped>\n",
       "    .dataframe tbody tr th:only-of-type {\n",
       "        vertical-align: middle;\n",
       "    }\n",
       "\n",
       "    .dataframe tbody tr th {\n",
       "        vertical-align: top;\n",
       "    }\n",
       "\n",
       "    .dataframe thead th {\n",
       "        text-align: right;\n",
       "    }\n",
       "</style>\n",
       "<table border=\"1\" class=\"dataframe\">\n",
       "  <thead>\n",
       "    <tr style=\"text-align: right;\">\n",
       "      <th></th>\n",
       "      <th>NO2 AQI Value</th>\n",
       "    </tr>\n",
       "  </thead>\n",
       "  <tbody>\n",
       "    <tr>\n",
       "      <th>0</th>\n",
       "      <td>0</td>\n",
       "    </tr>\n",
       "    <tr>\n",
       "      <th>1</th>\n",
       "      <td>1</td>\n",
       "    </tr>\n",
       "    <tr>\n",
       "      <th>2</th>\n",
       "      <td>2</td>\n",
       "    </tr>\n",
       "    <tr>\n",
       "      <th>3</th>\n",
       "      <td>0</td>\n",
       "    </tr>\n",
       "    <tr>\n",
       "      <th>4</th>\n",
       "      <td>0</td>\n",
       "    </tr>\n",
       "  </tbody>\n",
       "</table>\n",
       "</div>"
      ],
      "text/plain": [
       "   NO2 AQI Value\n",
       "0              0\n",
       "1              1\n",
       "2              2\n",
       "3              0\n",
       "4              0"
      ]
     },
     "execution_count": 35,
     "metadata": {},
     "output_type": "execute_result"
    }
   ],
   "source": [
    "y.head()"
   ]
  },
  {
   "cell_type": "markdown",
   "id": "41bf7d7f",
   "metadata": {
    "papermill": {
     "duration": 0.023415,
     "end_time": "2023-01-12T18:50:49.639959",
     "exception": false,
     "start_time": "2023-01-12T18:50:49.616544",
     "status": "completed"
    },
    "tags": []
   },
   "source": [
    "**Lineer regresyon modeli**"
   ]
  },
  {
   "cell_type": "code",
   "execution_count": 36,
   "id": "04191d3f",
   "metadata": {
    "execution": {
     "iopub.execute_input": "2023-01-12T18:50:49.688314Z",
     "iopub.status.busy": "2023-01-12T18:50:49.687908Z",
     "iopub.status.idle": "2023-01-12T18:50:49.699532Z",
     "shell.execute_reply": "2023-01-12T18:50:49.698422Z"
    },
    "papermill": {
     "duration": 0.038816,
     "end_time": "2023-01-12T18:50:49.702147",
     "exception": false,
     "start_time": "2023-01-12T18:50:49.663331",
     "status": "completed"
    },
    "tags": []
   },
   "outputs": [],
   "source": [
    "X_train, X_test, y_train, y_test = train_test_split(X,y,test_size=0.20, random_state=1)"
   ]
  },
  {
   "cell_type": "code",
   "execution_count": 37,
   "id": "65dfbfb3",
   "metadata": {
    "execution": {
     "iopub.execute_input": "2023-01-12T18:50:49.750976Z",
     "iopub.status.busy": "2023-01-12T18:50:49.750590Z",
     "iopub.status.idle": "2023-01-12T18:50:49.789283Z",
     "shell.execute_reply": "2023-01-12T18:50:49.787898Z"
    },
    "papermill": {
     "duration": 0.067735,
     "end_time": "2023-01-12T18:50:49.793475",
     "exception": false,
     "start_time": "2023-01-12T18:50:49.725740",
     "status": "completed"
    },
    "tags": []
   },
   "outputs": [
    {
     "data": {
      "text/plain": [
       "LinearRegression()"
      ]
     },
     "execution_count": 37,
     "metadata": {},
     "output_type": "execute_result"
    }
   ],
   "source": [
    "reg_model = LinearRegression()\n",
    "reg_model.fit(X_train, y_train)"
   ]
  },
  {
   "cell_type": "markdown",
   "id": "b37f701f",
   "metadata": {
    "papermill": {
     "duration": 0.05283,
     "end_time": "2023-01-12T18:50:49.906206",
     "exception": false,
     "start_time": "2023-01-12T18:50:49.853376",
     "status": "completed"
    },
    "tags": []
   },
   "source": [
    "R-squared (R^2) bir makine öğrenimi modelinin performansını ölçmek için kullanılan bir metriktir. R^2, modelin girdi değişkenleriyle çıktı değişkeni arasındaki ilişki derecesini ölçer. R^2 değerinin 1 olması, modelin çıktı değişkenini %100 oranında açıkladığı anlamına gelir. Değer 0 ise modelin çıktı değişkenini hiçbir şekilde açıklamadığını gösterir. Negatif bir değer ise modelin anlamsız olduğunu gösterir."
   ]
  },
  {
   "cell_type": "code",
   "execution_count": 38,
   "id": "8eec6770",
   "metadata": {
    "execution": {
     "iopub.execute_input": "2023-01-12T18:50:49.981915Z",
     "iopub.status.busy": "2023-01-12T18:50:49.981136Z",
     "iopub.status.idle": "2023-01-12T18:50:49.997414Z",
     "shell.execute_reply": "2023-01-12T18:50:49.996316Z"
    },
    "papermill": {
     "duration": 0.060131,
     "end_time": "2023-01-12T18:50:50.002963",
     "exception": false,
     "start_time": "2023-01-12T18:50:49.942832",
     "status": "completed"
    },
    "tags": []
   },
   "outputs": [],
   "source": [
    "y_pred = reg_model.predict(X_test)\n"
   ]
  },
  {
   "cell_type": "code",
   "execution_count": 39,
   "id": "21e22447",
   "metadata": {
    "execution": {
     "iopub.execute_input": "2023-01-12T18:50:50.147768Z",
     "iopub.status.busy": "2023-01-12T18:50:50.147392Z",
     "iopub.status.idle": "2023-01-12T18:50:50.159455Z",
     "shell.execute_reply": "2023-01-12T18:50:50.157992Z"
    },
    "papermill": {
     "duration": 0.062394,
     "end_time": "2023-01-12T18:50:50.162258",
     "exception": false,
     "start_time": "2023-01-12T18:50:50.099864",
     "status": "completed"
    },
    "tags": []
   },
   "outputs": [
    {
     "name": "stdout",
     "output_type": "stream",
     "text": [
      "MAE:  2.523232497789165\n",
      "MSE:  23.928451492335643\n",
      "RMSE:  4.891671646005652\n",
      "R-Squared:  0.10806252979602471\n"
     ]
    }
   ],
   "source": [
    "mae = mean_absolute_error(y_test, y_pred)\n",
    "mse = mean_squared_error(y_test, y_pred)\n",
    "rmse = np.sqrt(mse)\n",
    "r2 = r2_score(y_test, y_pred)\n",
    "print(\"MAE: \", mae)\n",
    "print(\"MSE: \", mse)\n",
    "print(\"RMSE: \", rmse)\n",
    "print(\"R-Squared: \", r2)"
   ]
  },
  {
   "cell_type": "markdown",
   "id": "3c7cc2d8",
   "metadata": {
    "papermill": {
     "duration": 0.024151,
     "end_time": "2023-01-12T18:50:50.222268",
     "exception": false,
     "start_time": "2023-01-12T18:50:50.198117",
     "status": "completed"
    },
    "tags": []
   },
   "source": [
    "**Model Sonuçlarının değerlendirilmesi**\n"
   ]
  },
  {
   "cell_type": "code",
   "execution_count": 40,
   "id": "1c786b1b",
   "metadata": {
    "execution": {
     "iopub.execute_input": "2023-01-12T18:50:50.275154Z",
     "iopub.status.busy": "2023-01-12T18:50:50.274227Z",
     "iopub.status.idle": "2023-01-12T18:50:50.279770Z",
     "shell.execute_reply": "2023-01-12T18:50:50.278736Z"
    },
    "papermill": {
     "duration": 0.036068,
     "end_time": "2023-01-12T18:50:50.281966",
     "exception": false,
     "start_time": "2023-01-12T18:50:50.245898",
     "status": "completed"
    },
    "tags": []
   },
   "outputs": [],
   "source": [
    "#MAE değerimiz standart sapması 5,7 olan bir değişken için ortalama değerlerde ancak tek başına bir fikir vermiyor. \n",
    "#bu yüzden R2 skoruna da bakmak ,istedik \n",
    "#r2 değerimiz oldukça düşük çıktı. burada geriye dönüp baktığımızda bunun olası nedenleri;\n",
    "\n",
    "#1- aykırı değerler üzerine yeteri kadar çalışmamamız,\n",
    "#2- verinin içerdiği özelliklerin yetersiz olması\n",
    "#3- hiperparametre optimizasyonu yapılmaması\n",
    "#4- iş bilgisinin yeteri kadar olmamasından doğan veri önişleme adımındaki yetersiz yaklaşımlar olabilir\n",
    "#modelimizi bir de uzaklık temelli ağaç yöntemlerinde kurmayı deneyelim"
   ]
  },
  {
   "cell_type": "markdown",
   "id": "ed5d09ec",
   "metadata": {
    "papermill": {
     "duration": 0.023583,
     "end_time": "2023-01-12T18:50:50.329506",
     "exception": false,
     "start_time": "2023-01-12T18:50:50.305923",
     "status": "completed"
    },
    "tags": []
   },
   "source": [
    "**Karar ağacı model hazırlığı**"
   ]
  },
  {
   "cell_type": "code",
   "execution_count": 41,
   "id": "b6063d5b",
   "metadata": {
    "execution": {
     "iopub.execute_input": "2023-01-12T18:50:50.385821Z",
     "iopub.status.busy": "2023-01-12T18:50:50.385353Z",
     "iopub.status.idle": "2023-01-12T18:50:50.389807Z",
     "shell.execute_reply": "2023-01-12T18:50:50.388712Z"
    },
    "papermill": {
     "duration": 0.035224,
     "end_time": "2023-01-12T18:50:50.392048",
     "exception": false,
     "start_time": "2023-01-12T18:50:50.356824",
     "status": "completed"
    },
    "tags": []
   },
   "outputs": [],
   "source": [
    "#uzaklık temelli ağaç yöntemleri kullanmadan önce sayısal değişkenlerimizi standartlaştıralım"
   ]
  },
  {
   "cell_type": "code",
   "execution_count": 42,
   "id": "71ab23ec",
   "metadata": {
    "execution": {
     "iopub.execute_input": "2023-01-12T18:50:50.442867Z",
     "iopub.status.busy": "2023-01-12T18:50:50.442130Z",
     "iopub.status.idle": "2023-01-12T18:50:50.454028Z",
     "shell.execute_reply": "2023-01-12T18:50:50.453245Z"
    },
    "papermill": {
     "duration": 0.040365,
     "end_time": "2023-01-12T18:50:50.456655",
     "exception": false,
     "start_time": "2023-01-12T18:50:50.416290",
     "status": "completed"
    },
    "tags": []
   },
   "outputs": [],
   "source": [
    "#scale nesnemizi oluşturalım\n",
    "scaler = StandardScaler()\n",
    "\n",
    "#numerik değişkenlerimizi standartlaştıralım\n",
    "df_last[numeric_vars] = scaler.fit_transform(df_last[numeric_vars])"
   ]
  },
  {
   "cell_type": "code",
   "execution_count": 43,
   "id": "5849c3c2",
   "metadata": {
    "execution": {
     "iopub.execute_input": "2023-01-12T18:50:50.506825Z",
     "iopub.status.busy": "2023-01-12T18:50:50.505906Z",
     "iopub.status.idle": "2023-01-12T18:50:50.528023Z",
     "shell.execute_reply": "2023-01-12T18:50:50.526905Z"
    },
    "papermill": {
     "duration": 0.050133,
     "end_time": "2023-01-12T18:50:50.530633",
     "exception": false,
     "start_time": "2023-01-12T18:50:50.480500",
     "status": "completed"
    },
    "tags": []
   },
   "outputs": [
    {
     "data": {
      "text/html": [
       "<div>\n",
       "<style scoped>\n",
       "    .dataframe tbody tr th:only-of-type {\n",
       "        vertical-align: middle;\n",
       "    }\n",
       "\n",
       "    .dataframe tbody tr th {\n",
       "        vertical-align: top;\n",
       "    }\n",
       "\n",
       "    .dataframe thead th {\n",
       "        text-align: right;\n",
       "    }\n",
       "</style>\n",
       "<table border=\"1\" class=\"dataframe\">\n",
       "  <thead>\n",
       "    <tr style=\"text-align: right;\">\n",
       "      <th></th>\n",
       "      <th>Country</th>\n",
       "      <th>City</th>\n",
       "      <th>AQI Value</th>\n",
       "      <th>CO AQI Value</th>\n",
       "      <th>Ozone AQI Value</th>\n",
       "      <th>NO2 AQI Value</th>\n",
       "      <th>PM2.5 AQI Value</th>\n",
       "      <th>AQI Category_Hazardous</th>\n",
       "      <th>AQI Category_Moderate</th>\n",
       "      <th>AQI Category_Unhealthy</th>\n",
       "      <th>AQI Category_Unhealthy for Sensitive Groups</th>\n",
       "      <th>AQI Category_Very Unhealthy</th>\n",
       "      <th>CO AQI Category_Moderate</th>\n",
       "      <th>CO AQI Category_Unhealthy for Sensitive Groups</th>\n",
       "      <th>Ozone AQI Category_Moderate</th>\n",
       "      <th>Ozone AQI Category_Unhealthy</th>\n",
       "      <th>Ozone AQI Category_Unhealthy for Sensitive Groups</th>\n",
       "      <th>Ozone AQI Category_Very Unhealthy</th>\n",
       "      <th>NO2 AQI Category_Moderate</th>\n",
       "      <th>PM2.5 AQI Category_Hazardous</th>\n",
       "      <th>PM2.5 AQI Category_Moderate</th>\n",
       "      <th>PM2.5 AQI Category_Unhealthy</th>\n",
       "      <th>PM2.5 AQI Category_Unhealthy for Sensitive Groups</th>\n",
       "      <th>PM2.5 AQI Category_Very Unhealthy</th>\n",
       "    </tr>\n",
       "  </thead>\n",
       "  <tbody>\n",
       "    <tr>\n",
       "      <th>0</th>\n",
       "      <td>Russian Federation</td>\n",
       "      <td>Praskoveya</td>\n",
       "      <td>-0.37872</td>\n",
       "      <td>-0.20394</td>\n",
       "      <td>0.02713</td>\n",
       "      <td>-0.58405</td>\n",
       "      <td>-0.32482</td>\n",
       "      <td>0</td>\n",
       "      <td>1</td>\n",
       "      <td>0</td>\n",
       "      <td>0</td>\n",
       "      <td>0</td>\n",
       "      <td>0</td>\n",
       "      <td>0</td>\n",
       "      <td>0</td>\n",
       "      <td>0</td>\n",
       "      <td>0</td>\n",
       "      <td>0</td>\n",
       "      <td>0</td>\n",
       "      <td>0</td>\n",
       "      <td>1</td>\n",
       "      <td>0</td>\n",
       "      <td>0</td>\n",
       "      <td>0</td>\n",
       "    </tr>\n",
       "    <tr>\n",
       "      <th>1</th>\n",
       "      <td>Brazil</td>\n",
       "      <td>Presidente Dutra</td>\n",
       "      <td>-0.55615</td>\n",
       "      <td>-0.20394</td>\n",
       "      <td>-1.07076</td>\n",
       "      <td>-0.39472</td>\n",
       "      <td>-0.50645</td>\n",
       "      <td>0</td>\n",
       "      <td>0</td>\n",
       "      <td>0</td>\n",
       "      <td>0</td>\n",
       "      <td>0</td>\n",
       "      <td>0</td>\n",
       "      <td>0</td>\n",
       "      <td>0</td>\n",
       "      <td>0</td>\n",
       "      <td>0</td>\n",
       "      <td>0</td>\n",
       "      <td>0</td>\n",
       "      <td>0</td>\n",
       "      <td>0</td>\n",
       "      <td>0</td>\n",
       "      <td>0</td>\n",
       "      <td>0</td>\n",
       "    </tr>\n",
       "    <tr>\n",
       "      <th>2</th>\n",
       "      <td>Italy</td>\n",
       "      <td>Priolo Gargallo</td>\n",
       "      <td>-0.11257</td>\n",
       "      <td>-0.20394</td>\n",
       "      <td>0.13338</td>\n",
       "      <td>-0.20538</td>\n",
       "      <td>-0.05237</td>\n",
       "      <td>0</td>\n",
       "      <td>1</td>\n",
       "      <td>0</td>\n",
       "      <td>0</td>\n",
       "      <td>0</td>\n",
       "      <td>0</td>\n",
       "      <td>0</td>\n",
       "      <td>0</td>\n",
       "      <td>0</td>\n",
       "      <td>0</td>\n",
       "      <td>0</td>\n",
       "      <td>0</td>\n",
       "      <td>0</td>\n",
       "      <td>1</td>\n",
       "      <td>0</td>\n",
       "      <td>0</td>\n",
       "      <td>0</td>\n",
       "    </tr>\n",
       "    <tr>\n",
       "      <th>3</th>\n",
       "      <td>Poland</td>\n",
       "      <td>Przasnysz</td>\n",
       "      <td>-0.68036</td>\n",
       "      <td>-0.20394</td>\n",
       "      <td>-0.04370</td>\n",
       "      <td>-0.58405</td>\n",
       "      <td>-0.88788</td>\n",
       "      <td>0</td>\n",
       "      <td>0</td>\n",
       "      <td>0</td>\n",
       "      <td>0</td>\n",
       "      <td>0</td>\n",
       "      <td>0</td>\n",
       "      <td>0</td>\n",
       "      <td>0</td>\n",
       "      <td>0</td>\n",
       "      <td>0</td>\n",
       "      <td>0</td>\n",
       "      <td>0</td>\n",
       "      <td>0</td>\n",
       "      <td>0</td>\n",
       "      <td>0</td>\n",
       "      <td>0</td>\n",
       "      <td>0</td>\n",
       "    </tr>\n",
       "    <tr>\n",
       "      <th>4</th>\n",
       "      <td>France</td>\n",
       "      <td>Punaauia</td>\n",
       "      <td>-0.89327</td>\n",
       "      <td>-0.74598</td>\n",
       "      <td>-0.46869</td>\n",
       "      <td>-0.58405</td>\n",
       "      <td>-1.14217</td>\n",
       "      <td>0</td>\n",
       "      <td>0</td>\n",
       "      <td>0</td>\n",
       "      <td>0</td>\n",
       "      <td>0</td>\n",
       "      <td>0</td>\n",
       "      <td>0</td>\n",
       "      <td>0</td>\n",
       "      <td>0</td>\n",
       "      <td>0</td>\n",
       "      <td>0</td>\n",
       "      <td>0</td>\n",
       "      <td>0</td>\n",
       "      <td>0</td>\n",
       "      <td>0</td>\n",
       "      <td>0</td>\n",
       "      <td>0</td>\n",
       "    </tr>\n",
       "  </tbody>\n",
       "</table>\n",
       "</div>"
      ],
      "text/plain": [
       "              Country              City  AQI Value  CO AQI Value  Ozone AQI Value  NO2 AQI Value  PM2.5 AQI Value  AQI Category_Hazardous  AQI Category_Moderate  AQI Category_Unhealthy  AQI Category_Unhealthy for Sensitive Groups  AQI Category_Very Unhealthy  CO AQI Category_Moderate  \\\n",
       "0  Russian Federation        Praskoveya   -0.37872      -0.20394          0.02713       -0.58405         -0.32482                       0                      1                       0                                            0                            0                         0   \n",
       "1              Brazil  Presidente Dutra   -0.55615      -0.20394         -1.07076       -0.39472         -0.50645                       0                      0                       0                                            0                            0                         0   \n",
       "2               Italy   Priolo Gargallo   -0.11257      -0.20394          0.13338       -0.20538         -0.05237                       0                      1                       0                                            0                            0                         0   \n",
       "3              Poland         Przasnysz   -0.68036      -0.20394         -0.04370       -0.58405         -0.88788                       0                      0                       0                                            0                            0                         0   \n",
       "4              France          Punaauia   -0.89327      -0.74598         -0.46869       -0.58405         -1.14217                       0                      0                       0                                            0                            0                         0   \n",
       "\n",
       "   CO AQI Category_Unhealthy for Sensitive Groups  Ozone AQI Category_Moderate  Ozone AQI Category_Unhealthy  Ozone AQI Category_Unhealthy for Sensitive Groups  Ozone AQI Category_Very Unhealthy  NO2 AQI Category_Moderate  PM2.5 AQI Category_Hazardous  PM2.5 AQI Category_Moderate  \\\n",
       "0                                               0                            0                             0                                                  0                                  0                          0                             0                            1   \n",
       "1                                               0                            0                             0                                                  0                                  0                          0                             0                            0   \n",
       "2                                               0                            0                             0                                                  0                                  0                          0                             0                            1   \n",
       "3                                               0                            0                             0                                                  0                                  0                          0                             0                            0   \n",
       "4                                               0                            0                             0                                                  0                                  0                          0                             0                            0   \n",
       "\n",
       "   PM2.5 AQI Category_Unhealthy  PM2.5 AQI Category_Unhealthy for Sensitive Groups  PM2.5 AQI Category_Very Unhealthy  \n",
       "0                             0                                                  0                                  0  \n",
       "1                             0                                                  0                                  0  \n",
       "2                             0                                                  0                                  0  \n",
       "3                             0                                                  0                                  0  \n",
       "4                             0                                                  0                                  0  "
      ]
     },
     "execution_count": 43,
     "metadata": {},
     "output_type": "execute_result"
    }
   ],
   "source": [
    "df_last.head()"
   ]
  },
  {
   "cell_type": "markdown",
   "id": "4521d558",
   "metadata": {
    "papermill": {
     "duration": 0.023934,
     "end_time": "2023-01-12T18:50:50.579107",
     "exception": false,
     "start_time": "2023-01-12T18:50:50.555173",
     "status": "completed"
    },
    "tags": []
   },
   "source": [
    "**DT modelinin kurulması**"
   ]
  },
  {
   "cell_type": "code",
   "execution_count": 44,
   "id": "f72fc0e3",
   "metadata": {
    "execution": {
     "iopub.execute_input": "2023-01-12T18:50:50.628976Z",
     "iopub.status.busy": "2023-01-12T18:50:50.628589Z",
     "iopub.status.idle": "2023-01-12T18:50:50.696320Z",
     "shell.execute_reply": "2023-01-12T18:50:50.695212Z"
    },
    "papermill": {
     "duration": 0.095814,
     "end_time": "2023-01-12T18:50:50.699075",
     "exception": false,
     "start_time": "2023-01-12T18:50:50.603261",
     "status": "completed"
    },
    "tags": []
   },
   "outputs": [],
   "source": [
    "r_dt = DecisionTreeRegressor(random_state=0)\n",
    "r_dt.fit(X_train,y_train)\n",
    "y_pred2 = r_dt.predict(X_test)\n"
   ]
  },
  {
   "cell_type": "code",
   "execution_count": 45,
   "id": "fb798bca",
   "metadata": {
    "execution": {
     "iopub.execute_input": "2023-01-12T18:50:50.749801Z",
     "iopub.status.busy": "2023-01-12T18:50:50.748925Z",
     "iopub.status.idle": "2023-01-12T18:50:50.760918Z",
     "shell.execute_reply": "2023-01-12T18:50:50.759604Z"
    },
    "papermill": {
     "duration": 0.040469,
     "end_time": "2023-01-12T18:50:50.763753",
     "exception": false,
     "start_time": "2023-01-12T18:50:50.723284",
     "status": "completed"
    },
    "tags": []
   },
   "outputs": [
    {
     "name": "stdout",
     "output_type": "stream",
     "text": [
      "Decision Tree R2 degeri:\n",
      "0.2304484070028705\n"
     ]
    }
   ],
   "source": [
    "print(\"Decision Tree R2 degeri:\")\n",
    "print(r2_score(y_test, r_dt.predict(X_test)))\n"
   ]
  },
  {
   "cell_type": "code",
   "execution_count": 46,
   "id": "7b5aa828",
   "metadata": {
    "execution": {
     "iopub.execute_input": "2023-01-12T18:50:50.820008Z",
     "iopub.status.busy": "2023-01-12T18:50:50.819632Z",
     "iopub.status.idle": "2023-01-12T18:50:50.831732Z",
     "shell.execute_reply": "2023-01-12T18:50:50.830703Z"
    },
    "papermill": {
     "duration": 0.040096,
     "end_time": "2023-01-12T18:50:50.834216",
     "exception": false,
     "start_time": "2023-01-12T18:50:50.794120",
     "status": "completed"
    },
    "tags": []
   },
   "outputs": [
    {
     "name": "stdout",
     "output_type": "stream",
     "text": [
      "MAE:  2.373992871862961\n",
      "MSE:  20.645144507350203\n",
      "RMSE:  4.543692827134136\n",
      "R-Squared:  0.2304484070028705\n"
     ]
    }
   ],
   "source": [
    "mae = mean_absolute_error(y_test, y_pred2)\n",
    "mse = mean_squared_error(y_test, y_pred2)\n",
    "rmse = np.sqrt(mse)\n",
    "r2 = r2_score(y_test, y_pred2)\n",
    "print(\"MAE: \", mae)\n",
    "print(\"MSE: \", mse)\n",
    "print(\"RMSE: \", rmse)\n",
    "print(\"R-Squared: \", r2)"
   ]
  },
  {
   "cell_type": "markdown",
   "id": "c766df42",
   "metadata": {
    "papermill": {
     "duration": 0.023506,
     "end_time": "2023-01-12T18:50:50.893970",
     "exception": false,
     "start_time": "2023-01-12T18:50:50.870464",
     "status": "completed"
    },
    "tags": []
   },
   "source": [
    "Daha iyi bir sonuç elde ettik. bunu hiperparametre optimizasyonuyla arttırmayı hedefleyelim"
   ]
  },
  {
   "cell_type": "code",
   "execution_count": 47,
   "id": "0f1d8194",
   "metadata": {
    "execution": {
     "iopub.execute_input": "2023-01-12T18:50:50.948045Z",
     "iopub.status.busy": "2023-01-12T18:50:50.947633Z",
     "iopub.status.idle": "2023-01-12T18:50:52.817568Z",
     "shell.execute_reply": "2023-01-12T18:50:52.816757Z"
    },
    "papermill": {
     "duration": 1.900164,
     "end_time": "2023-01-12T18:50:52.819714",
     "exception": false,
     "start_time": "2023-01-12T18:50:50.919550",
     "status": "completed"
    },
    "tags": []
   },
   "outputs": [
    {
     "data": {
      "image/png": "[encoded data removed]",
      "text/plain": [
       "<Figure size 432x288 with 1 Axes>"
      ]
     },
     "metadata": {
      "needs_background": "light"
     },
     "output_type": "display_data"
    }
   ],
   "source": [
    "# model karmaşıklığını max_depths parametresiyle arttırarak hiperparametre optimizasyonu yapalım\n",
    "max_depths = np.linspace(1, 32, 32, endpoint=True)\n",
    "\n",
    "\n",
    "train_results = []\n",
    "test_results = []\n",
    "for max_depth in max_depths:\n",
    "    dt = DecisionTreeRegressor(max_depth=max_depth)\n",
    "    dt.fit(X_train, y_train)\n",
    "\n",
    "    #r2 değerlerini eğitim ve test veri için liste1ye ekleyelim\n",
    "    train_pred = dt.predict(X_train)\n",
    "    train_r2 = r2_score(y_train, train_pred)\n",
    "    train_results.append(train_r2)\n",
    "\n",
    "    \n",
    "    test_pred = dt.predict(X_test)\n",
    "    test_r2 = r2_score(y_test, test_pred)\n",
    "    test_results.append(test_r2)\n",
    "\n",
    "#train ve test r2 sonuclarını grafik ile görekek optimum max_depth değerini elde edelim. \n",
    "plt.plot(max_depths, train_results, 'g', label='Eğitim Verisi')\n",
    "plt.plot(max_depths, test_results, 'r', label='Test Verisi')\n",
    "plt.ylabel('R2 Skoru')\n",
    "plt.xlabel('Max Depth')\n",
    "plt.legend()\n",
    "plt.show()"
   ]
  },
  {
   "cell_type": "markdown",
   "id": "575ab515",
   "metadata": {
    "papermill": {
     "duration": 0.024253,
     "end_time": "2023-01-12T18:50:52.869339",
     "exception": false,
     "start_time": "2023-01-12T18:50:52.845086",
     "status": "completed"
    },
    "tags": []
   },
   "source": [
    "Grafiğe göre eğitim ve test veri setinin başarısının birlikte artış gösterdiği son nokta, seçtiğimiz max_depth parametresinin 5 olduğunu nokta. Yaklaşık olarak 0.5 r2 scoru vermesini bekleyebiliriz. "
   ]
  },
  {
   "cell_type": "markdown",
   "id": "f2009631",
   "metadata": {
    "papermill": {
     "duration": 0.024962,
     "end_time": "2023-01-12T18:50:52.918694",
     "exception": false,
     "start_time": "2023-01-12T18:50:52.893732",
     "status": "completed"
    },
    "tags": []
   },
   "source": [
    "Sonuç olarak; hava kirliliği yalnızca bir değişkene bağlı olmayan farklı elementlerin AQI değerlerinin hesaplanarak değerlendirilmesi gereken önemli bir problemdir. Bu elementleri ölçmenin maliyetlerini azaltmak için veri madenciliği yöntemlerini kullanarak NO2 AQI değerini tahmin etmeye çalıştık. "
   ]
  },
  {
   "attachments": {
    "8d930921-6300-4bff-8c90-fc120c50d563.png": {
     "image/png": "[encoded data removed]"
    }
   },
   "cell_type": "markdown",
   "id": "2e882b7b",
   "metadata": {
    "papermill": {
     "duration": 0.024337,
     "end_time": "2023-01-12T18:50:52.967389",
     "exception": false,
     "start_time": "2023-01-12T18:50:52.943052",
     "status": "completed"
    },
    "tags": []
   },
   "source": [
    "# Eyup Burak ATAHANLI\n",
    "# Bartu Salih KARABACAK\n",
    "# Sümeyye ÜTNÜ\n",
    "# Ziya Duhan MEMİŞ![Ekran Resmi 2023-01-12 09.02.24.png](attachment:8d930921-6300-4bff-8c90-fc120c50d563.png)"
   ]
  }
 ],
 "metadata": {
  "kernelspec": {
   "display_name": "Python 3",
   "language": "python",
   "name": "python3"
  },
  "language_info": {
   "codemirror_mode": {
    "name": "ipython",
    "version": 3
   },
   "file_extension": ".py",
   "mimetype": "text/x-python",
   "name": "python",
   "nbconvert_exporter": "python",
   "pygments_lexer": "ipython3",
   "version": "3.7.12"
  },
  "papermill": {
   "default_parameters": {},
   "duration": 22.072778,
   "end_time": "2023-01-12T18:50:53.914075",
   "environment_variables": {},
   "exception": null,
   "input_path": "__notebook__.ipynb",
   "output_path": "__notebook__.ipynb",
   "parameters": {},
   "start_time": "2023-01-12T18:50:31.841297",
   "version": "2.3.4"
  }
 },
 "nbformat": 4,
 "nbformat_minor": 5
}
